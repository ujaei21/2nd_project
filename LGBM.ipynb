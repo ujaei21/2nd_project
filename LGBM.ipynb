{
  "nbformat": 4,
  "nbformat_minor": 0,
  "metadata": {
    "colab": {
      "name": "LGBM.ipynb",
      "private_outputs": true,
      "provenance": []
    },
    "kernelspec": {
      "name": "python3",
      "display_name": "Python 3"
    },
    "language_info": {
      "name": "python"
    }
  },
  "cells": [
    {
      "cell_type": "code",
      "metadata": {
        "id": "OqVWxYZT5Sl8"
      },
      "source": [
        "from google.colab import drive\n",
        "drive.mount('/content/drive')"
      ],
      "execution_count": null,
      "outputs": []
    },
    {
      "cell_type": "code",
      "metadata": {
        "id": "rtGw1xLw028V"
      },
      "source": [
        "import numpy as np\n",
        "import pandas as pd\n",
        "import matplotlib.pyplot as plt\n",
        "import seaborn as sns\n",
        "\n",
        "from sklearn.model_selection import train_test_split\n",
        "from sklearn.metrics import mean_squared_error"
      ],
      "execution_count": null,
      "outputs": []
    },
    {
      "cell_type": "code",
      "metadata": {
        "id": "eaeAgaXB5ThK"
      },
      "source": [
        "PATH = '/content/drive/MyDrive/Colab Notebooks/apart'\n",
        "df=pd.read_csv(PATH + '/dataset.csv')"
      ],
      "execution_count": null,
      "outputs": []
    },
    {
      "cell_type": "code",
      "metadata": {
        "id": "eZk3ISIR7oG6"
      },
      "source": [
        "df.head()"
      ],
      "execution_count": null,
      "outputs": []
    },
    {
      "cell_type": "code",
      "metadata": {
        "id": "H69k4Jp17q7B"
      },
      "source": [
        "X=df.drop('cost',axis =1)\n",
        "y = df.cost\n",
        "X.head()"
      ],
      "execution_count": null,
      "outputs": []
    },
    {
      "cell_type": "markdown",
      "metadata": {
        "id": "1y_RkC9s97lK"
      },
      "source": [
        "## 다중공선성 주의 항목 "
      ]
    },
    {
      "cell_type": "code",
      "metadata": {
        "id": "ws6P-p_m73zR"
      },
      "source": [
        "X.corr()"
      ],
      "execution_count": null,
      "outputs": []
    },
    {
      "cell_type": "markdown",
      "metadata": {
        "id": "gaolDB1R-B1Y"
      },
      "source": [
        "per_cost_man - Price_per_squar 0.6656\n",
        "\n"
      ]
    },
    {
      "cell_type": "markdown",
      "metadata": {
        "id": "-uUvhIz6-XtT"
      },
      "source": [
        "## 연관성이 높아보이는 변수"
      ]
    },
    {
      "cell_type": "code",
      "metadata": {
        "id": "PRMMG4fB8S74"
      },
      "source": [
        "df.corr()"
      ],
      "execution_count": null,
      "outputs": []
    },
    {
      "cell_type": "markdown",
      "metadata": {
        "id": "pNkGqhZs-eyE"
      },
      "source": [
        "1. Price per squar \n",
        "2. Exclusive_area\n",
        "3. per_cost_man\n",
        "4. top10(시공사)\n",
        "5. Floor 층수\n",
        "\n",
        "\n"
      ]
    },
    {
      "cell_type": "markdown",
      "metadata": {
        "id": "CohLs8Rj-_kU"
      },
      "source": [
        "## 훈련용 검증용 분리\n"
      ]
    },
    {
      "cell_type": "code",
      "metadata": {
        "id": "G-I_p1ec-_TO"
      },
      "source": [
        "X_train, X_test, y_train, y_test = train_test_split(X, y,\n",
        "                                                   test_size = 0.2,\n",
        "                                                   random_state = 99)"
      ],
      "execution_count": null,
      "outputs": []
    },
    {
      "cell_type": "markdown",
      "metadata": {
        "id": "zbL-sjeY_Grb"
      },
      "source": [
        "## 모델"
      ]
    },
    {
      "cell_type": "code",
      "metadata": {
        "id": "moFNGsJb-di-"
      },
      "source": [
        "from lightgbm import LGBMRegressor"
      ],
      "execution_count": null,
      "outputs": []
    },
    {
      "cell_type": "code",
      "metadata": {
        "id": "2GpRJhkd8fRo"
      },
      "source": [
        "lgb = LGBMRegressor(linear_tree = True,\n",
        "                   boosting_type = 'gbdt',\n",
        "                   objective = 'regression',\n",
        "                   n_estimators = 9000,\n",
        "                   learning_rate = 0.001,\n",
        "                   max_depth = 4,\n",
        "                   n_jobs = -1)\n",
        "\n",
        "lgb.fit(X_train, y_train)"
      ],
      "execution_count": null,
      "outputs": []
    },
    {
      "cell_type": "code",
      "metadata": {
        "id": "tNPpvrgI_RfQ"
      },
      "source": [
        "MSE = mean_squared_error(y_test, lgb.predict(X_test))"
      ],
      "execution_count": null,
      "outputs": []
    },
    {
      "cell_type": "code",
      "metadata": {
        "id": "KVxXK6Bn_ijA"
      },
      "source": [
        "from math import sqrt\n",
        "print(f'MSE : {MSE}')\n",
        "print(f'RMSE : {sqrt(MSE)}')"
      ],
      "execution_count": null,
      "outputs": []
    },
    {
      "cell_type": "code",
      "metadata": {
        "id": "KOeiOifi_mhg"
      },
      "source": [
        "lgb.feature_importances_"
      ],
      "execution_count": null,
      "outputs": []
    },
    {
      "cell_type": "code",
      "metadata": {
        "id": "E9bc4H94_q5Q"
      },
      "source": [
        "X.columns"
      ],
      "execution_count": null,
      "outputs": []
    },
    {
      "cell_type": "code",
      "metadata": {
        "id": "Qr_tna-K_uh4"
      },
      "source": [
        "plt.figure(figsize=(7,5))\n",
        "sns.barplot(lgb.feature_importances_,['Gu_Label', 'Dong_Label', 'Year', 'Exclusive_area', 'Floor',\n",
        "       'Price per squar', 'top10', 'YN_r', 'Hospital', 'Station',\n",
        "       'per_cost_man'])\n",
        "plt.show()"
      ],
      "execution_count": null,
      "outputs": []
    },
    {
      "cell_type": "markdown",
      "metadata": {
        "id": "_KWsRB_yADvJ"
      },
      "source": [
        "### 'Hospital', 'Station' 탈락"
      ]
    },
    {
      "cell_type": "code",
      "metadata": {
        "id": "koMYIJ-JADM6"
      },
      "source": [
        "df1 = df.drop(['Hospital', 'Station'],axis=1)"
      ],
      "execution_count": null,
      "outputs": []
    },
    {
      "cell_type": "code",
      "metadata": {
        "id": "0b1cIyPM_2LJ"
      },
      "source": [
        "X=df1.drop('cost',axis =1)\n",
        "y = df1.cost\n",
        "X.head()"
      ],
      "execution_count": null,
      "outputs": []
    },
    {
      "cell_type": "code",
      "metadata": {
        "id": "38E3g4_4Acxq"
      },
      "source": [
        "X_train, X_test, y_train, y_test = train_test_split(X, y,\n",
        "                                                   test_size = 0.2,\n",
        "                                                   random_state = 99)"
      ],
      "execution_count": null,
      "outputs": []
    },
    {
      "cell_type": "code",
      "metadata": {
        "id": "h9D4XW0KAfpw"
      },
      "source": [
        "lgb = LGBMRegressor(linear_tree = True,\n",
        "                   boosting_type = 'gbdt',\n",
        "                   objective = 'regression',\n",
        "                   n_estimators = 9000,\n",
        "                   learning_rate = 0.001,\n",
        "                   max_depth = 4,\n",
        "                   n_jobs = -1)\n",
        "\n",
        "lgb.fit(X_train, y_train)"
      ],
      "execution_count": null,
      "outputs": []
    },
    {
      "cell_type": "code",
      "metadata": {
        "id": "Kdv0wDveAiwJ"
      },
      "source": [
        "MSE = mean_squared_error(y_test, lgb.predict(X_test))\n",
        "print(f'MSE : {MSE}')\n",
        "print(f'RMSE : {sqrt(MSE)}')"
      ],
      "execution_count": null,
      "outputs": []
    },
    {
      "cell_type": "code",
      "metadata": {
        "id": "_yMURDNOAnkA"
      },
      "source": [
        "lgb.feature_importances_"
      ],
      "execution_count": null,
      "outputs": []
    },
    {
      "cell_type": "code",
      "metadata": {
        "id": "jKgP1uz6A0ZZ"
      },
      "source": [
        "X.columns"
      ],
      "execution_count": null,
      "outputs": []
    },
    {
      "cell_type": "code",
      "metadata": {
        "id": "1tCCbfcAA_YA"
      },
      "source": [
        "plt.figure(figsize=(7,5))\n",
        "sns.barplot(lgb.feature_importances_,['Gu_Label', 'Dong_Label', 'Year', 'Exclusive_area', 'Floor',\n",
        "       'Price per squar', 'top10', 'YN_r', 'per_cost_man'])\n",
        "plt.show()"
      ],
      "execution_count": null,
      "outputs": []
    },
    {
      "cell_type": "markdown",
      "metadata": {
        "id": "c0uJadi_CAEr"
      },
      "source": [
        "## 3개 추가제거"
      ]
    },
    {
      "cell_type": "code",
      "metadata": {
        "id": "0fZ1GrmrBTPx"
      },
      "source": [
        "df2 = df.drop(['Price per squar','top10', 'YN_r','Hospital', 'Station'],axis=1)"
      ],
      "execution_count": null,
      "outputs": []
    },
    {
      "cell_type": "code",
      "metadata": {
        "id": "25myjr5cB1X8"
      },
      "source": [
        "X=df2.drop('cost',axis =1)\n",
        "y = df2.cost\n",
        "X.head()"
      ],
      "execution_count": null,
      "outputs": []
    },
    {
      "cell_type": "code",
      "metadata": {
        "id": "JTDQbsVFB4yA"
      },
      "source": [
        "X_train, X_test, y_train, y_test = train_test_split(X, y,\n",
        "                                                   test_size = 0.2,\n",
        "                                                   random_state = 99)"
      ],
      "execution_count": null,
      "outputs": []
    },
    {
      "cell_type": "code",
      "metadata": {
        "id": "BiLpgXQGCFUI"
      },
      "source": [
        "lgb = LGBMRegressor(linear_tree = True,\n",
        "                   boosting_type = 'gbdt',\n",
        "                   objective = 'regression',\n",
        "                   n_estimators = 9000,\n",
        "                   learning_rate = 0.001,\n",
        "                   max_depth = 4,\n",
        "                   n_jobs = -1)\n",
        "\n",
        "lgb.fit(X_train, y_train)\n",
        "\n",
        "MSE = mean_squared_error(y_test, lgb.predict(X_test))\n",
        "print(f'MSE : {MSE}')\n",
        "print(f'RMSE : {sqrt(MSE)}')"
      ],
      "execution_count": null,
      "outputs": []
    },
    {
      "cell_type": "markdown",
      "metadata": {
        "id": "nG6ruNlaCwI1"
      },
      "source": [
        "## 하이퍼 파라미터 튜닝"
      ]
    },
    {
      "cell_type": "code",
      "metadata": {
        "id": "lomJbb82CJhA"
      },
      "source": [
        "X=df.drop('cost',axis =1)\n",
        "y = df.cost\n",
        "X.head()"
      ],
      "execution_count": null,
      "outputs": []
    },
    {
      "cell_type": "code",
      "metadata": {
        "id": "o-_WXXXjCz-6"
      },
      "source": [
        "X_train,X_test,y_train,y_test = train_test_split(X,y,test_size=0.2,\n",
        "                                                 random_state = 99)"
      ],
      "execution_count": null,
      "outputs": []
    },
    {
      "cell_type": "code",
      "metadata": {
        "id": "8UHBs_iJDNEo"
      },
      "source": [
        "from sklearn.model_selection import GridSearchCV\n",
        "\n",
        "params = {\n",
        "    'learning_rate' : [0.1, 0.01, 0.001, 0.0001],\n",
        "    'max_depth' : [1,2,3,4]\n",
        "}\n",
        "\n",
        "grid_cv = GridSearchCV(lgb, param_grid = params, cv=4, scoring='neg_mean_squared_error', verbose=1)\n",
        "grid_cv.fit(X_train, y_train)"
      ],
      "execution_count": null,
      "outputs": []
    },
    {
      "cell_type": "code",
      "metadata": {
        "id": "9-YpTtY1DmbZ"
      },
      "source": [
        "print(f'최적의 하이퍼 파라미터 : {grid_cv.best_params_}')\n",
        "print(f'예측 오차 : {grid_cv.best_score_}')"
      ],
      "execution_count": null,
      "outputs": []
    },
    {
      "cell_type": "code",
      "metadata": {
        "id": "3JhfrGm5KsV8"
      },
      "source": [
        "lgb_r = LGBMRegressor(linear_tree = True,\n",
        "                   boosting_type = 'gbdt',\n",
        "                   objective = 'regression',\n",
        "                   n_estimators = 9000,\n",
        "                   learning_rate = 0.1,\n",
        "                   max_depth = 3,\n",
        "                   n_jobs = -1)\n",
        "\n",
        "lgb_r.fit(X_train, y_train)"
      ],
      "execution_count": null,
      "outputs": []
    },
    {
      "cell_type": "code",
      "metadata": {
        "id": "W0rA1KrAKxsg"
      },
      "source": [
        "MSE = mean_squared_error(y_test, lgb_r.predict(X_test))\n",
        "print(f'MSE : {MSE}')\n",
        "print(f'RMSE : {sqrt(MSE)}')"
      ],
      "execution_count": null,
      "outputs": []
    },
    {
      "cell_type": "code",
      "metadata": {
        "id": "gISO6RDqLOaj"
      },
      "source": [
        "lgb_r.feature_importances_"
      ],
      "execution_count": null,
      "outputs": []
    },
    {
      "cell_type": "code",
      "metadata": {
        "id": "IZglsGhbLTwI"
      },
      "source": [
        "X.columns"
      ],
      "execution_count": null,
      "outputs": []
    },
    {
      "cell_type": "code",
      "metadata": {
        "id": "a6_nusFfLyot"
      },
      "source": [
        "lgb_r.feature_importances_.shape"
      ],
      "execution_count": null,
      "outputs": []
    },
    {
      "cell_type": "code",
      "metadata": {
        "id": "tA9LrJvBL1JM"
      },
      "source": [
        "X.columns.shape"
      ],
      "execution_count": null,
      "outputs": []
    },
    {
      "cell_type": "code",
      "metadata": {
        "id": "ZfHLdz_aMJy0"
      },
      "source": [
        "pred = lgb_r.predict(X_test)"
      ],
      "execution_count": null,
      "outputs": []
    },
    {
      "cell_type": "code",
      "metadata": {
        "id": "VGXyAJEDMX63"
      },
      "source": [
        "pred[0]"
      ],
      "execution_count": null,
      "outputs": []
    },
    {
      "cell_type": "code",
      "metadata": {
        "id": "A1LrUpUDMbaw"
      },
      "source": [
        "y_test.iloc[0]"
      ],
      "execution_count": null,
      "outputs": []
    },
    {
      "cell_type": "code",
      "metadata": {
        "id": "CLdXJ63eMc84"
      },
      "source": [
        ""
      ],
      "execution_count": null,
      "outputs": []
    }
  ]
}