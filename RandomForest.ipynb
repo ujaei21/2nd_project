{
  "nbformat": 4,
  "nbformat_minor": 0,
  "metadata": {
    "colab": {
      "name": "RandomForest.ipynb",
      "provenance": []
    },
    "kernelspec": {
      "name": "python3",
      "display_name": "Python 3"
    },
    "language_info": {
      "name": "python"
    }
  },
  "cells": [
    {
      "cell_type": "code",
      "metadata": {
        "id": "lYSe68qLLTpX"
      },
      "source": [
        "import pandas as pd \n",
        "from sklearn.ensemble import ExtraTreesRegressor\n",
        "from sklearn.model_selection import train_test_split\n",
        "from sklearn.metrics import mean_squared_error"
      ],
      "execution_count": 1,
      "outputs": []
    },
    {
      "cell_type": "code",
      "metadata": {
        "id": "-Ujp0YUAMGbC",
        "colab": {
          "base_uri": "https://localhost:8080/"
        },
        "outputId": "120500fc-e88b-44fa-dec3-bab8b114b32d"
      },
      "source": [
        "path = '/content/drive/MyDrive/Colab Notebooks/apart'\n",
        "df = pd.read_csv(path+'/dataset.csv')\n",
        "df.columns"
      ],
      "execution_count": 9,
      "outputs": [
        {
          "output_type": "execute_result",
          "data": {
            "text/plain": [
              "Index(['Gu_Label', 'Dong_Label', 'Year', 'Exclusive_area', 'Floor',\n",
              "       'Price per squar', 'top10', 'YN_r', 'Hospital', 'Station',\n",
              "       'Transaction_real_price', 'per_cost_man'],\n",
              "      dtype='object')"
            ]
          },
          "metadata": {},
          "execution_count": 9
        }
      ]
    },
    {
      "cell_type": "code",
      "metadata": {
        "id": "JQpmRAdH9qqA"
      },
      "source": [
        "df = df[['Gu_Label', 'Dong_Label', 'Year', 'Exclusive_area', 'Floor',\n",
        "       'Price per squar', 'top10', 'YN_r', 'Hospital', 'Station', 'per_cost_man',\n",
        "       'Transaction_real_price']]"
      ],
      "execution_count": 13,
      "outputs": []
    },
    {
      "cell_type": "code",
      "metadata": {
        "colab": {
          "base_uri": "https://localhost:8080/"
        },
        "id": "x852W4gxMl_G",
        "outputId": "4756da1a-172e-4f26-d548-0f2316651e4b"
      },
      "source": [
        "X=df.drop('Transaction_real_price',axis=1)\n",
        "y=df['Transaction_real_price']\n",
        "\n",
        "X.shape, y.shape"
      ],
      "execution_count": 14,
      "outputs": [
        {
          "output_type": "execute_result",
          "data": {
            "text/plain": [
              "((114143, 11), (114143,))"
            ]
          },
          "metadata": {},
          "execution_count": 14
        }
      ]
    },
    {
      "cell_type": "code",
      "metadata": {
        "colab": {
          "base_uri": "https://localhost:8080/"
        },
        "id": "cBR8emODM2N1",
        "outputId": "b04249bb-5722-461d-cd27-273a2ad36612"
      },
      "source": [
        "X.columns"
      ],
      "execution_count": 15,
      "outputs": [
        {
          "output_type": "execute_result",
          "data": {
            "text/plain": [
              "Index(['Gu_Label', 'Dong_Label', 'Year', 'Exclusive_area', 'Floor',\n",
              "       'Price per squar', 'top10', 'YN_r', 'Hospital', 'Station',\n",
              "       'per_cost_man'],\n",
              "      dtype='object')"
            ]
          },
          "metadata": {},
          "execution_count": 15
        }
      ]
    },
    {
      "cell_type": "code",
      "metadata": {
        "id": "rfO5KX6tNDU1"
      },
      "source": [
        "X_train,X_test,y_train,y_test = train_test_split(X,y,test_size = 0.3,random_state = 42)"
      ],
      "execution_count": 16,
      "outputs": []
    },
    {
      "cell_type": "code",
      "metadata": {
        "colab": {
          "base_uri": "https://localhost:8080/"
        },
        "id": "PZkeIOT2NQjN",
        "outputId": "132c9327-5396-45ee-ef1e-2e9cfa090b64"
      },
      "source": [
        "X_test.shape,y_test.shape"
      ],
      "execution_count": 17,
      "outputs": [
        {
          "output_type": "execute_result",
          "data": {
            "text/plain": [
              "((34243, 11), (34243,))"
            ]
          },
          "metadata": {},
          "execution_count": 17
        }
      ]
    },
    {
      "cell_type": "code",
      "metadata": {
        "id": "ObamWb0QNY6W"
      },
      "source": [
        "model = ExtraTreesRegressor()"
      ],
      "execution_count": 18,
      "outputs": []
    },
    {
      "cell_type": "code",
      "metadata": {
        "colab": {
          "base_uri": "https://localhost:8080/"
        },
        "id": "XL3pZFLZNgJl",
        "outputId": "66201639-d47a-4d8a-878b-9347d8231d76"
      },
      "source": [
        "model.fit(X_train,y_train)"
      ],
      "execution_count": 19,
      "outputs": [
        {
          "output_type": "execute_result",
          "data": {
            "text/plain": [
              "ExtraTreesRegressor(bootstrap=False, ccp_alpha=0.0, criterion='mse',\n",
              "                    max_depth=None, max_features='auto', max_leaf_nodes=None,\n",
              "                    max_samples=None, min_impurity_decrease=0.0,\n",
              "                    min_impurity_split=None, min_samples_leaf=1,\n",
              "                    min_samples_split=2, min_weight_fraction_leaf=0.0,\n",
              "                    n_estimators=100, n_jobs=None, oob_score=False,\n",
              "                    random_state=None, verbose=0, warm_start=False)"
            ]
          },
          "metadata": {},
          "execution_count": 19
        }
      ]
    },
    {
      "cell_type": "code",
      "metadata": {
        "colab": {
          "base_uri": "https://localhost:8080/"
        },
        "id": "IB9M5M3aNkHV",
        "outputId": "0cec8cf1-78da-49fe-f6fb-8bc4185b9409"
      },
      "source": [
        "model.score(X_test,y_test)"
      ],
      "execution_count": 20,
      "outputs": [
        {
          "output_type": "execute_result",
          "data": {
            "text/plain": [
              "0.9998045428751501"
            ]
          },
          "metadata": {},
          "execution_count": 20
        }
      ]
    },
    {
      "cell_type": "code",
      "metadata": {
        "colab": {
          "base_uri": "https://localhost:8080/"
        },
        "id": "Qz5RqHoPNqB9",
        "outputId": "33c485b9-ecec-4108-d8dc-e313b72baf13"
      },
      "source": [
        "y_pred = model.predict(X_test)\n",
        "mse = mean_squared_error(y_pred,y_test)\n",
        "print(\"MSE: %.2f\" % mse)\n",
        "print(\"RMSE: %.2f\" % mse**(0.5))\n"
      ],
      "execution_count": 21,
      "outputs": [
        {
          "output_type": "stream",
          "text": [
            "MSE: 742427.17\n",
            "RMSE: 861.64\n"
          ],
          "name": "stdout"
        }
      ]
    },
    {
      "cell_type": "code",
      "metadata": {
        "colab": {
          "base_uri": "https://localhost:8080/"
        },
        "id": "d1jnWw9X-24r",
        "outputId": "144c6820-e1f1-47a7-e32a-7a4678877d70"
      },
      "source": [
        "y_test.iloc[0]"
      ],
      "execution_count": 25,
      "outputs": [
        {
          "output_type": "execute_result",
          "data": {
            "text/plain": [
              "63000"
            ]
          },
          "metadata": {},
          "execution_count": 25
        }
      ]
    },
    {
      "cell_type": "code",
      "metadata": {
        "colab": {
          "base_uri": "https://localhost:8080/"
        },
        "id": "5_xBfA0M-_BW",
        "outputId": "efd961e4-46bb-4b09-962b-ee8a7f34afdd"
      },
      "source": [
        "y_pred[0]"
      ],
      "execution_count": 27,
      "outputs": [
        {
          "output_type": "execute_result",
          "data": {
            "text/plain": [
              "63012.0"
            ]
          },
          "metadata": {},
          "execution_count": 27
        }
      ]
    },
    {
      "cell_type": "markdown",
      "metadata": {
        "id": "jrRxSU_fOK3G"
      },
      "source": [
        "## RandomForestRegressor"
      ]
    },
    {
      "cell_type": "code",
      "metadata": {
        "id": "vdlIulSFOKm_"
      },
      "source": [
        "from sklearn.ensemble import RandomForestRegressor"
      ],
      "execution_count": 22,
      "outputs": []
    },
    {
      "cell_type": "code",
      "metadata": {
        "colab": {
          "base_uri": "https://localhost:8080/"
        },
        "id": "mhABJcxaN-re",
        "outputId": "02680c21-b161-4ad7-d433-949376019826"
      },
      "source": [
        "rf = RandomForestRegressor(random_state=42)\n",
        "\n",
        "rf.fit(X_train,y_train)\n",
        "pred = rf.predict(X_test)\n",
        "rf.score(X_test,y_test)"
      ],
      "execution_count": 23,
      "outputs": [
        {
          "output_type": "execute_result",
          "data": {
            "text/plain": [
              "0.9997212458281434"
            ]
          },
          "metadata": {},
          "execution_count": 23
        }
      ]
    },
    {
      "cell_type": "code",
      "metadata": {
        "colab": {
          "base_uri": "https://localhost:8080/"
        },
        "id": "nX_4gT4wYJRg",
        "outputId": "1c496cb0-93c0-4293-e5bf-e71203c95eea"
      },
      "source": [
        "mse = mean_squared_error(y_test,pred)\n",
        "print(\"MSE: %.2f\" % mse)\n",
        "print(\"RMSE: %.2f\" % mse**(0.5))"
      ],
      "execution_count": 28,
      "outputs": [
        {
          "output_type": "stream",
          "text": [
            "MSE: 1058823.87\n",
            "RMSE: 1028.99\n"
          ],
          "name": "stdout"
        }
      ]
    },
    {
      "cell_type": "code",
      "metadata": {
        "id": "TVRveHzFYl1F"
      },
      "source": [
        "from sklearn.model_selection import GridSearchCV"
      ],
      "execution_count": 29,
      "outputs": []
    },
    {
      "cell_type": "code",
      "metadata": {
        "colab": {
          "base_uri": "https://localhost:8080/"
        },
        "id": "BAy6wp6cY4_k",
        "outputId": "5679427b-6676-42c1-e7a0-476a86dcf279"
      },
      "source": [
        "params={\n",
        "    'n_estimators':[100],'max_depth':[4,5,6,7], \n",
        "    'min_samples_leaf':[1,2,3], 'min_samples_split':[2,3,4]\n",
        "}\n",
        "rf = RandomForestRegressor(random_state=42,n_jobs=-1)\n",
        "\n",
        "grid_cv=GridSearchCV(rf,param_grid=params,cv=2,n_jobs=-1)\n",
        "\n",
        "grid_cv.fit(X_train,y_train)\n",
        "\n",
        "print('GridSearchCV 최고의 평균 정확도 : {0:.4f}'.format(grid_cv.best_score_))\n",
        "print('GridSearchCV 최적의 하이퍼 파라미터 :',grid_cv.best_params_)"
      ],
      "execution_count": 30,
      "outputs": [
        {
          "output_type": "stream",
          "text": [
            "GridSearchCV 최고의 평균 정확도 : 0.9924\n",
            "GridSearchCV 최적의 하이퍼 파라미터 : {'max_depth': 7, 'min_samples_leaf': 1, 'min_samples_split': 2, 'n_estimators': 100}\n"
          ],
          "name": "stdout"
        }
      ]
    },
    {
      "cell_type": "code",
      "metadata": {
        "colab": {
          "base_uri": "https://localhost:8080/"
        },
        "id": "GWEX1GbsZCz2",
        "outputId": "35fcb1be-95bc-4e8d-b213-852901871980"
      },
      "source": [
        "rf = RandomForestRegressor(max_depth = 7,min_samples_leaf= 1, \n",
        "                           min_samples_split=2, n_estimators= 100,random_state=42)\n",
        "\n",
        "rf.fit(X_train,y_train)\n",
        "pred = rf.predict(X_test)\n",
        "rf.score(X_test,y_test)"
      ],
      "execution_count": 31,
      "outputs": [
        {
          "output_type": "execute_result",
          "data": {
            "text/plain": [
              "0.99255089704484"
            ]
          },
          "metadata": {},
          "execution_count": 31
        }
      ]
    },
    {
      "cell_type": "markdown",
      "metadata": {
        "id": "DdPqNH8hbgEW"
      },
      "source": [
        "## 의사결정나무"
      ]
    },
    {
      "cell_type": "code",
      "metadata": {
        "id": "dMOO-XUobPzG"
      },
      "source": [
        "from sklearn.tree import DecisionTreeRegressor"
      ],
      "execution_count": 32,
      "outputs": []
    },
    {
      "cell_type": "code",
      "metadata": {
        "colab": {
          "base_uri": "https://localhost:8080/"
        },
        "id": "-eI9AoJxbvD1",
        "outputId": "0af5527f-80e1-4894-96f2-1cc8b5c7e53d"
      },
      "source": [
        "dt = DecisionTreeRegressor(random_state=42)\n",
        "dt.fit(X_train,y_train)\n",
        "dt.score(X_test,y_test)"
      ],
      "execution_count": 33,
      "outputs": [
        {
          "output_type": "execute_result",
          "data": {
            "text/plain": [
              "0.9990771514903298"
            ]
          },
          "metadata": {},
          "execution_count": 33
        }
      ]
    },
    {
      "cell_type": "code",
      "metadata": {
        "id": "uXYXXsykdSnd"
      },
      "source": [
        "pred = dt.predict(X_test)\n",
        "mse = mean_squared_error(y_test,pred)"
      ],
      "execution_count": 34,
      "outputs": []
    },
    {
      "cell_type": "code",
      "metadata": {
        "colab": {
          "base_uri": "https://localhost:8080/"
        },
        "id": "fyZZYnRTdyOt",
        "outputId": "e5aa753d-32f9-421b-acba-5e0f6edcadc0"
      },
      "source": [
        "print(\"MSE: %.2f\" % mse)\n",
        "print(\"RMSE: %.2f\" % mse**(0.5))"
      ],
      "execution_count": 35,
      "outputs": [
        {
          "output_type": "stream",
          "text": [
            "MSE: 3505361.11\n",
            "RMSE: 1872.26\n"
          ],
          "name": "stdout"
        }
      ]
    },
    {
      "cell_type": "code",
      "metadata": {
        "id": "aRdkUJU-d2nV"
      },
      "source": [
        ""
      ],
      "execution_count": null,
      "outputs": []
    }
  ]
}