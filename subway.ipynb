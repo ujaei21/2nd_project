{
 "cells": [
  {
   "cell_type": "code",
   "execution_count": 1,
   "id": "460563ab-46da-4319-af9b-86b6153f9ee1",
   "metadata": {},
   "outputs": [],
   "source": [
    "import numpy as np\n",
    "import pandas as pd\n",
    "import matplotlib.pyplot as plt\n",
    "import seaborn as sns\n"
   ]
  },
  {
   "cell_type": "code",
   "execution_count": 2,
   "id": "e5b48de9-bda4-48a6-ab4a-cfa15912b616",
   "metadata": {},
   "outputs": [
    {
     "name": "stdout",
     "output_type": "stream",
     "text": [
      "C:\\Users\\elia8\\Documents\n"
     ]
    }
   ],
   "source": [
    "!cd"
   ]
  },
  {
   "cell_type": "markdown",
   "id": "8d342a44-31af-4a9e-8a81-7fff82e41bf7",
   "metadata": {},
   "source": [
    "## 서울시 역들의 행정동 정보 불러옴"
   ]
  },
  {
   "cell_type": "code",
   "execution_count": 3,
   "id": "75f045e2-5c0d-4b67-8dec-aec81496211b",
   "metadata": {},
   "outputs": [],
   "source": [
    "ss = './seoul_subway.xls'"
   ]
  },
  {
   "cell_type": "code",
   "execution_count": 4,
   "id": "87045c2d-d340-4692-8573-51353f2e39f9",
   "metadata": {},
   "outputs": [],
   "source": [
    "df_s = pd.read_excel(ss)"
   ]
  },
  {
   "cell_type": "code",
   "execution_count": 5,
   "id": "fcc26045-84f1-4d68-accb-12d5a024a097",
   "metadata": {},
   "outputs": [
    {
     "data": {
      "text/html": [
       "<div>\n",
       "<style scoped>\n",
       "    .dataframe tbody tr th:only-of-type {\n",
       "        vertical-align: middle;\n",
       "    }\n",
       "\n",
       "    .dataframe tbody tr th {\n",
       "        vertical-align: top;\n",
       "    }\n",
       "\n",
       "    .dataframe thead th {\n",
       "        text-align: right;\n",
       "    }\n",
       "</style>\n",
       "<table border=\"1\" class=\"dataframe\">\n",
       "  <thead>\n",
       "    <tr style=\"text-align: right;\">\n",
       "      <th></th>\n",
       "      <th>서울교통공사 역 주소 현황(행정동 기준)</th>\n",
       "      <th>Unnamed: 1</th>\n",
       "      <th>Unnamed: 2</th>\n",
       "      <th>Unnamed: 3</th>\n",
       "      <th>Unnamed: 4</th>\n",
       "    </tr>\n",
       "  </thead>\n",
       "  <tbody>\n",
       "    <tr>\n",
       "      <th>0</th>\n",
       "      <td>번호</td>\n",
       "      <td>역 명</td>\n",
       "      <td>행정동(법정동)명</td>\n",
       "      <td>역 주소</td>\n",
       "      <td>우편번호</td>\n",
       "    </tr>\n",
       "    <tr>\n",
       "      <th>1</th>\n",
       "      <td>1</td>\n",
       "      <td>서울(1)역</td>\n",
       "      <td>회현동(봉래동2가)</td>\n",
       "      <td>서울시 중구 봉래동2가 122</td>\n",
       "      <td>04509</td>\n",
       "    </tr>\n",
       "    <tr>\n",
       "      <th>2</th>\n",
       "      <td>2</td>\n",
       "      <td>시청(1)역</td>\n",
       "      <td>명동(태평로1가)</td>\n",
       "      <td>서울시 중구 태평로1가 31</td>\n",
       "      <td>04519</td>\n",
       "    </tr>\n",
       "    <tr>\n",
       "      <th>3</th>\n",
       "      <td>3</td>\n",
       "      <td>종각(1)역</td>\n",
       "      <td>종로1.2.3.4가동(종로1가)</td>\n",
       "      <td>서울시 종로구 종로1가 44</td>\n",
       "      <td>03161</td>\n",
       "    </tr>\n",
       "    <tr>\n",
       "      <th>4</th>\n",
       "      <td>4</td>\n",
       "      <td>종로3가(1)역</td>\n",
       "      <td>종로1.2.3.4가동(종로3가)</td>\n",
       "      <td>서울시 종로구 종로3가 61-68</td>\n",
       "      <td>03139</td>\n",
       "    </tr>\n",
       "    <tr>\n",
       "      <th>...</th>\n",
       "      <td>...</td>\n",
       "      <td>...</td>\n",
       "      <td>...</td>\n",
       "      <td>...</td>\n",
       "      <td>...</td>\n",
       "    </tr>\n",
       "    <tr>\n",
       "      <th>276</th>\n",
       "      <td>276</td>\n",
       "      <td>남한산성입구(8)역</td>\n",
       "      <td>단대동(단대동)</td>\n",
       "      <td>경기도 성남시 수정구 산성대로 지하446</td>\n",
       "      <td>13168</td>\n",
       "    </tr>\n",
       "    <tr>\n",
       "      <th>277</th>\n",
       "      <td>277</td>\n",
       "      <td>단대오거리(8)역</td>\n",
       "      <td>신흥2동(신흥동)</td>\n",
       "      <td>경기도 성남시 수정구 산성대로 지하 365</td>\n",
       "      <td>13272</td>\n",
       "    </tr>\n",
       "    <tr>\n",
       "      <th>278</th>\n",
       "      <td>278</td>\n",
       "      <td>신흥(8)역</td>\n",
       "      <td>신흥3동(신흥동)</td>\n",
       "      <td>경기도 성남시 수정구 산성대로 지하280</td>\n",
       "      <td>13353</td>\n",
       "    </tr>\n",
       "    <tr>\n",
       "      <th>279</th>\n",
       "      <td>279</td>\n",
       "      <td>수진(8)역</td>\n",
       "      <td>수진1동(수진동)</td>\n",
       "      <td>경기도 성남시 수정구 산성대로 지하200</td>\n",
       "      <td>13337</td>\n",
       "    </tr>\n",
       "    <tr>\n",
       "      <th>280</th>\n",
       "      <td>280</td>\n",
       "      <td>모란(8)역</td>\n",
       "      <td>수진2동(수진동)</td>\n",
       "      <td>경기도 성남시 수정구 산성대로 지하 100번지</td>\n",
       "      <td>13326</td>\n",
       "    </tr>\n",
       "  </tbody>\n",
       "</table>\n",
       "<p>281 rows × 5 columns</p>\n",
       "</div>"
      ],
      "text/plain": [
       "    서울교통공사 역 주소 현황(행정동 기준)  Unnamed: 1         Unnamed: 2  \\\n",
       "0                       번호         역 명          행정동(법정동)명   \n",
       "1                        1      서울(1)역         회현동(봉래동2가)   \n",
       "2                        2      시청(1)역          명동(태평로1가)   \n",
       "3                        3      종각(1)역  종로1.2.3.4가동(종로1가)   \n",
       "4                        4    종로3가(1)역  종로1.2.3.4가동(종로3가)   \n",
       "..                     ...         ...                ...   \n",
       "276                    276  남한산성입구(8)역           단대동(단대동)   \n",
       "277                    277   단대오거리(8)역          신흥2동(신흥동)   \n",
       "278                    278      신흥(8)역          신흥3동(신흥동)   \n",
       "279                    279      수진(8)역          수진1동(수진동)   \n",
       "280                    280      모란(8)역          수진2동(수진동)   \n",
       "\n",
       "                    Unnamed: 3 Unnamed: 4  \n",
       "0                         역 주소       우편번호  \n",
       "1             서울시 중구 봉래동2가 122      04509  \n",
       "2              서울시 중구 태평로1가 31      04519  \n",
       "3              서울시 종로구 종로1가 44      03161  \n",
       "4           서울시 종로구 종로3가 61-68      03139  \n",
       "..                         ...        ...  \n",
       "276     경기도 성남시 수정구 산성대로 지하446      13168  \n",
       "277    경기도 성남시 수정구 산성대로 지하 365      13272  \n",
       "278     경기도 성남시 수정구 산성대로 지하280      13353  \n",
       "279     경기도 성남시 수정구 산성대로 지하200      13337  \n",
       "280  경기도 성남시 수정구 산성대로 지하 100번지      13326  \n",
       "\n",
       "[281 rows x 5 columns]"
      ]
     },
     "execution_count": 5,
     "metadata": {},
     "output_type": "execute_result"
    }
   ],
   "source": [
    "df_s"
   ]
  },
  {
   "cell_type": "code",
   "execution_count": 6,
   "id": "463f7225-3052-4e23-89cc-6fee3b30546d",
   "metadata": {},
   "outputs": [],
   "source": [
    "df_s.columns = ['a', 'station', 'dong', 'aa', 'aaa']"
   ]
  },
  {
   "cell_type": "code",
   "execution_count": 7,
   "id": "09f0f95a-4ddf-45c7-ad74-303a40326d13",
   "metadata": {},
   "outputs": [],
   "source": [
    "df_s['station'] = df_s.station.str.split('(').str[0]"
   ]
  },
  {
   "cell_type": "code",
   "execution_count": 8,
   "id": "fbbcf12e-a9c6-4048-8fe2-e3183d308a86",
   "metadata": {},
   "outputs": [],
   "source": [
    "df_s.drop(['a', 'aa', 'aaa'],axis='columns', inplace=True)"
   ]
  },
  {
   "cell_type": "code",
   "execution_count": 9,
   "id": "ed2f9cd6-e822-46b7-9b39-13785bab09a1",
   "metadata": {},
   "outputs": [
    {
     "data": {
      "text/html": [
       "<div>\n",
       "<style scoped>\n",
       "    .dataframe tbody tr th:only-of-type {\n",
       "        vertical-align: middle;\n",
       "    }\n",
       "\n",
       "    .dataframe tbody tr th {\n",
       "        vertical-align: top;\n",
       "    }\n",
       "\n",
       "    .dataframe thead th {\n",
       "        text-align: right;\n",
       "    }\n",
       "</style>\n",
       "<table border=\"1\" class=\"dataframe\">\n",
       "  <thead>\n",
       "    <tr style=\"text-align: right;\">\n",
       "      <th></th>\n",
       "      <th>station</th>\n",
       "      <th>dong</th>\n",
       "    </tr>\n",
       "  </thead>\n",
       "  <tbody>\n",
       "    <tr>\n",
       "      <th>0</th>\n",
       "      <td>역 명</td>\n",
       "      <td>행정동(법정동)명</td>\n",
       "    </tr>\n",
       "    <tr>\n",
       "      <th>1</th>\n",
       "      <td>서울</td>\n",
       "      <td>회현동(봉래동2가)</td>\n",
       "    </tr>\n",
       "    <tr>\n",
       "      <th>2</th>\n",
       "      <td>시청</td>\n",
       "      <td>명동(태평로1가)</td>\n",
       "    </tr>\n",
       "    <tr>\n",
       "      <th>3</th>\n",
       "      <td>종각</td>\n",
       "      <td>종로1.2.3.4가동(종로1가)</td>\n",
       "    </tr>\n",
       "    <tr>\n",
       "      <th>4</th>\n",
       "      <td>종로3가</td>\n",
       "      <td>종로1.2.3.4가동(종로3가)</td>\n",
       "    </tr>\n",
       "    <tr>\n",
       "      <th>...</th>\n",
       "      <td>...</td>\n",
       "      <td>...</td>\n",
       "    </tr>\n",
       "    <tr>\n",
       "      <th>276</th>\n",
       "      <td>남한산성입구</td>\n",
       "      <td>단대동(단대동)</td>\n",
       "    </tr>\n",
       "    <tr>\n",
       "      <th>277</th>\n",
       "      <td>단대오거리</td>\n",
       "      <td>신흥2동(신흥동)</td>\n",
       "    </tr>\n",
       "    <tr>\n",
       "      <th>278</th>\n",
       "      <td>신흥</td>\n",
       "      <td>신흥3동(신흥동)</td>\n",
       "    </tr>\n",
       "    <tr>\n",
       "      <th>279</th>\n",
       "      <td>수진</td>\n",
       "      <td>수진1동(수진동)</td>\n",
       "    </tr>\n",
       "    <tr>\n",
       "      <th>280</th>\n",
       "      <td>모란</td>\n",
       "      <td>수진2동(수진동)</td>\n",
       "    </tr>\n",
       "  </tbody>\n",
       "</table>\n",
       "<p>281 rows × 2 columns</p>\n",
       "</div>"
      ],
      "text/plain": [
       "    station               dong\n",
       "0       역 명          행정동(법정동)명\n",
       "1        서울         회현동(봉래동2가)\n",
       "2        시청          명동(태평로1가)\n",
       "3        종각  종로1.2.3.4가동(종로1가)\n",
       "4      종로3가  종로1.2.3.4가동(종로3가)\n",
       "..      ...                ...\n",
       "276  남한산성입구           단대동(단대동)\n",
       "277   단대오거리          신흥2동(신흥동)\n",
       "278      신흥          신흥3동(신흥동)\n",
       "279      수진          수진1동(수진동)\n",
       "280      모란          수진2동(수진동)\n",
       "\n",
       "[281 rows x 2 columns]"
      ]
     },
     "execution_count": 9,
     "metadata": {},
     "output_type": "execute_result"
    }
   ],
   "source": [
    "df_s"
   ]
  },
  {
   "cell_type": "code",
   "execution_count": 10,
   "id": "eafd849c-8a49-4c81-a33f-e751e2e05f4f",
   "metadata": {},
   "outputs": [
    {
     "name": "stdout",
     "output_type": "stream",
     "text": [
      "<class 'pandas.core.frame.DataFrame'>\n",
      "RangeIndex: 281 entries, 0 to 280\n",
      "Data columns (total 2 columns):\n",
      " #   Column   Non-Null Count  Dtype \n",
      "---  ------   --------------  ----- \n",
      " 0   station  281 non-null    object\n",
      " 1   dong     281 non-null    object\n",
      "dtypes: object(2)\n",
      "memory usage: 4.5+ KB\n"
     ]
    }
   ],
   "source": [
    "df_s.info()"
   ]
  },
  {
   "cell_type": "markdown",
   "id": "38effa56-f03c-4e05-955c-1d07c9666aee",
   "metadata": {},
   "source": [
    "## 2020 실거래데이터 불러와서 필요없는것들 드랍"
   ]
  },
  {
   "cell_type": "code",
   "execution_count": 11,
   "id": "408ad3d9-d42f-42a2-a643-1a37812d66d7",
   "metadata": {},
   "outputs": [],
   "source": [
    "df_2020 = pd.read_excel('./apt2020.xlsx')"
   ]
  },
  {
   "cell_type": "code",
   "execution_count": 12,
   "id": "f75d6b85-b6d0-489f-9946-8fef24fbf5ee",
   "metadata": {},
   "outputs": [
    {
     "data": {
      "text/html": [
       "<div>\n",
       "<style scoped>\n",
       "    .dataframe tbody tr th:only-of-type {\n",
       "        vertical-align: middle;\n",
       "    }\n",
       "\n",
       "    .dataframe tbody tr th {\n",
       "        vertical-align: top;\n",
       "    }\n",
       "\n",
       "    .dataframe thead th {\n",
       "        text-align: right;\n",
       "    }\n",
       "</style>\n",
       "<table border=\"1\" class=\"dataframe\">\n",
       "  <thead>\n",
       "    <tr style=\"text-align: right;\">\n",
       "      <th></th>\n",
       "      <th>시군구</th>\n",
       "      <th>번지</th>\n",
       "      <th>본번</th>\n",
       "      <th>부번</th>\n",
       "      <th>단지명</th>\n",
       "      <th>전용면적(㎡)</th>\n",
       "      <th>계약년월</th>\n",
       "      <th>계약일</th>\n",
       "      <th>거래금액(만원)</th>\n",
       "      <th>층</th>\n",
       "      <th>건축년도</th>\n",
       "      <th>도로명</th>\n",
       "      <th>해제사유발생일</th>\n",
       "    </tr>\n",
       "  </thead>\n",
       "  <tbody>\n",
       "    <tr>\n",
       "      <th>0</th>\n",
       "      <td>서울특별시 강남구 개포동</td>\n",
       "      <td>655-2</td>\n",
       "      <td>655.0</td>\n",
       "      <td>2.0</td>\n",
       "      <td>개포2차현대아파트(220)</td>\n",
       "      <td>77.75</td>\n",
       "      <td>202006</td>\n",
       "      <td>23</td>\n",
       "      <td>149500</td>\n",
       "      <td>4</td>\n",
       "      <td>1988</td>\n",
       "      <td>언주로 103</td>\n",
       "      <td>NaN</td>\n",
       "    </tr>\n",
       "    <tr>\n",
       "      <th>1</th>\n",
       "      <td>서울특별시 강남구 개포동</td>\n",
       "      <td>658-1</td>\n",
       "      <td>658.0</td>\n",
       "      <td>1.0</td>\n",
       "      <td>개포6차우성아파트1동~8동</td>\n",
       "      <td>54.98</td>\n",
       "      <td>202002</td>\n",
       "      <td>24</td>\n",
       "      <td>144000</td>\n",
       "      <td>4</td>\n",
       "      <td>1987</td>\n",
       "      <td>언주로 3</td>\n",
       "      <td>NaN</td>\n",
       "    </tr>\n",
       "    <tr>\n",
       "      <th>2</th>\n",
       "      <td>서울특별시 강남구 개포동</td>\n",
       "      <td>658-1</td>\n",
       "      <td>658.0</td>\n",
       "      <td>1.0</td>\n",
       "      <td>개포6차우성아파트1동~8동</td>\n",
       "      <td>79.97</td>\n",
       "      <td>202006</td>\n",
       "      <td>18</td>\n",
       "      <td>162750</td>\n",
       "      <td>4</td>\n",
       "      <td>1987</td>\n",
       "      <td>언주로 3</td>\n",
       "      <td>NaN</td>\n",
       "    </tr>\n",
       "    <tr>\n",
       "      <th>3</th>\n",
       "      <td>서울특별시 강남구 개포동</td>\n",
       "      <td>658-1</td>\n",
       "      <td>658.0</td>\n",
       "      <td>1.0</td>\n",
       "      <td>개포6차우성아파트1동~8동</td>\n",
       "      <td>79.97</td>\n",
       "      <td>202006</td>\n",
       "      <td>20</td>\n",
       "      <td>160000</td>\n",
       "      <td>5</td>\n",
       "      <td>1987</td>\n",
       "      <td>언주로 3</td>\n",
       "      <td>NaN</td>\n",
       "    </tr>\n",
       "    <tr>\n",
       "      <th>4</th>\n",
       "      <td>서울특별시 강남구 개포동</td>\n",
       "      <td>658-1</td>\n",
       "      <td>658.0</td>\n",
       "      <td>1.0</td>\n",
       "      <td>개포6차우성아파트1동~8동</td>\n",
       "      <td>79.97</td>\n",
       "      <td>202006</td>\n",
       "      <td>22</td>\n",
       "      <td>150000</td>\n",
       "      <td>2</td>\n",
       "      <td>1987</td>\n",
       "      <td>언주로 3</td>\n",
       "      <td>NaN</td>\n",
       "    </tr>\n",
       "    <tr>\n",
       "      <th>...</th>\n",
       "      <td>...</td>\n",
       "      <td>...</td>\n",
       "      <td>...</td>\n",
       "      <td>...</td>\n",
       "      <td>...</td>\n",
       "      <td>...</td>\n",
       "      <td>...</td>\n",
       "      <td>...</td>\n",
       "      <td>...</td>\n",
       "      <td>...</td>\n",
       "      <td>...</td>\n",
       "      <td>...</td>\n",
       "      <td>...</td>\n",
       "    </tr>\n",
       "    <tr>\n",
       "      <th>84221</th>\n",
       "      <td>서울특별시 중랑구 중화동</td>\n",
       "      <td>274-77</td>\n",
       "      <td>274.0</td>\n",
       "      <td>77.0</td>\n",
       "      <td>한영(104)</td>\n",
       "      <td>67.57</td>\n",
       "      <td>202008</td>\n",
       "      <td>7</td>\n",
       "      <td>26000</td>\n",
       "      <td>2</td>\n",
       "      <td>2003</td>\n",
       "      <td>동일로144길 74</td>\n",
       "      <td>NaN</td>\n",
       "    </tr>\n",
       "    <tr>\n",
       "      <th>84222</th>\n",
       "      <td>서울특별시 중랑구 중화동</td>\n",
       "      <td>11</td>\n",
       "      <td>11.0</td>\n",
       "      <td>0.0</td>\n",
       "      <td>현대휴앤미</td>\n",
       "      <td>95.94</td>\n",
       "      <td>202007</td>\n",
       "      <td>10</td>\n",
       "      <td>44000</td>\n",
       "      <td>6</td>\n",
       "      <td>2007</td>\n",
       "      <td>봉화산로27가길 23</td>\n",
       "      <td>NaN</td>\n",
       "    </tr>\n",
       "    <tr>\n",
       "      <th>84223</th>\n",
       "      <td>서울특별시 중랑구 중화동</td>\n",
       "      <td>11</td>\n",
       "      <td>11.0</td>\n",
       "      <td>0.0</td>\n",
       "      <td>현대휴앤미</td>\n",
       "      <td>100.17</td>\n",
       "      <td>202012</td>\n",
       "      <td>3</td>\n",
       "      <td>54800</td>\n",
       "      <td>5</td>\n",
       "      <td>2007</td>\n",
       "      <td>봉화산로27가길 23</td>\n",
       "      <td>NaN</td>\n",
       "    </tr>\n",
       "    <tr>\n",
       "      <th>84224</th>\n",
       "      <td>서울특별시 중랑구 중화동</td>\n",
       "      <td>2021-11-07 00:00:00</td>\n",
       "      <td>11.0</td>\n",
       "      <td>7.0</td>\n",
       "      <td>현대휴앤미(102동)</td>\n",
       "      <td>77.71</td>\n",
       "      <td>202009</td>\n",
       "      <td>28</td>\n",
       "      <td>40000</td>\n",
       "      <td>5</td>\n",
       "      <td>2007</td>\n",
       "      <td>봉화산로27가길 19</td>\n",
       "      <td>20201027.0</td>\n",
       "    </tr>\n",
       "    <tr>\n",
       "      <th>84225</th>\n",
       "      <td>서울특별시 중랑구 중화동</td>\n",
       "      <td>2021-11-07 00:00:00</td>\n",
       "      <td>11.0</td>\n",
       "      <td>7.0</td>\n",
       "      <td>현대휴앤미(102동)</td>\n",
       "      <td>77.71</td>\n",
       "      <td>202009</td>\n",
       "      <td>28</td>\n",
       "      <td>40000</td>\n",
       "      <td>5</td>\n",
       "      <td>2007</td>\n",
       "      <td>봉화산로27가길 19</td>\n",
       "      <td>NaN</td>\n",
       "    </tr>\n",
       "  </tbody>\n",
       "</table>\n",
       "<p>84226 rows × 13 columns</p>\n",
       "</div>"
      ],
      "text/plain": [
       "                 시군구                   번지     본번    부번             단지명  \\\n",
       "0      서울특별시 강남구 개포동                655-2  655.0   2.0  개포2차현대아파트(220)   \n",
       "1      서울특별시 강남구 개포동                658-1  658.0   1.0  개포6차우성아파트1동~8동   \n",
       "2      서울특별시 강남구 개포동                658-1  658.0   1.0  개포6차우성아파트1동~8동   \n",
       "3      서울특별시 강남구 개포동                658-1  658.0   1.0  개포6차우성아파트1동~8동   \n",
       "4      서울특별시 강남구 개포동                658-1  658.0   1.0  개포6차우성아파트1동~8동   \n",
       "...              ...                  ...    ...   ...             ...   \n",
       "84221  서울특별시 중랑구 중화동               274-77  274.0  77.0         한영(104)   \n",
       "84222  서울특별시 중랑구 중화동                   11   11.0   0.0           현대휴앤미   \n",
       "84223  서울특별시 중랑구 중화동                   11   11.0   0.0           현대휴앤미   \n",
       "84224  서울특별시 중랑구 중화동  2021-11-07 00:00:00   11.0   7.0     현대휴앤미(102동)   \n",
       "84225  서울특별시 중랑구 중화동  2021-11-07 00:00:00   11.0   7.0     현대휴앤미(102동)   \n",
       "\n",
       "       전용면적(㎡)    계약년월  계약일  거래금액(만원)  층  건축년도          도로명     해제사유발생일  \n",
       "0        77.75  202006   23    149500  4  1988      언주로 103         NaN  \n",
       "1        54.98  202002   24    144000  4  1987        언주로 3         NaN  \n",
       "2        79.97  202006   18    162750  4  1987        언주로 3         NaN  \n",
       "3        79.97  202006   20    160000  5  1987        언주로 3         NaN  \n",
       "4        79.97  202006   22    150000  2  1987        언주로 3         NaN  \n",
       "...        ...     ...  ...       ... ..   ...          ...         ...  \n",
       "84221    67.57  202008    7     26000  2  2003   동일로144길 74         NaN  \n",
       "84222    95.94  202007   10     44000  6  2007  봉화산로27가길 23         NaN  \n",
       "84223   100.17  202012    3     54800  5  2007  봉화산로27가길 23         NaN  \n",
       "84224    77.71  202009   28     40000  5  2007  봉화산로27가길 19  20201027.0  \n",
       "84225    77.71  202009   28     40000  5  2007  봉화산로27가길 19         NaN  \n",
       "\n",
       "[84226 rows x 13 columns]"
      ]
     },
     "execution_count": 12,
     "metadata": {},
     "output_type": "execute_result"
    }
   ],
   "source": [
    "df_2020"
   ]
  },
  {
   "cell_type": "code",
   "execution_count": 13,
   "id": "4a513ae2-bcae-4960-80b2-5677319e43de",
   "metadata": {},
   "outputs": [],
   "source": [
    "df_2020.columns = ['sigudong', 'a', 'aa', 'aaa', 'apart_name','square', 'YYYYMM', 'DD', 'cost', 'floor', 'blit_year', 'aaaa', 'aaaaa']"
   ]
  },
  {
   "cell_type": "code",
   "execution_count": 14,
   "id": "186d489e-1be9-4fa8-9f17-014f477740be",
   "metadata": {},
   "outputs": [],
   "source": [
    "df_2020.drop(['a', 'aa', 'aaa', 'aaaa', 'aaaaa'],axis='columns', inplace=True)"
   ]
  },
  {
   "cell_type": "code",
   "execution_count": 15,
   "id": "dbcb561c-b427-44a4-9b48-c16e437d746e",
   "metadata": {},
   "outputs": [],
   "source": [
    "df_2020['sigudong'] = df_2020.sigudong.str.split(' ').str[2]"
   ]
  },
  {
   "cell_type": "code",
   "execution_count": 16,
   "id": "086dcfa0-00b0-41a6-ba01-7dfdfb164fa8",
   "metadata": {},
   "outputs": [
    {
     "data": {
      "text/html": [
       "<div>\n",
       "<style scoped>\n",
       "    .dataframe tbody tr th:only-of-type {\n",
       "        vertical-align: middle;\n",
       "    }\n",
       "\n",
       "    .dataframe tbody tr th {\n",
       "        vertical-align: top;\n",
       "    }\n",
       "\n",
       "    .dataframe thead th {\n",
       "        text-align: right;\n",
       "    }\n",
       "</style>\n",
       "<table border=\"1\" class=\"dataframe\">\n",
       "  <thead>\n",
       "    <tr style=\"text-align: right;\">\n",
       "      <th></th>\n",
       "      <th>sigudong</th>\n",
       "      <th>apart_name</th>\n",
       "      <th>square</th>\n",
       "      <th>YYYYMM</th>\n",
       "      <th>DD</th>\n",
       "      <th>cost</th>\n",
       "      <th>floor</th>\n",
       "      <th>blit_year</th>\n",
       "    </tr>\n",
       "  </thead>\n",
       "  <tbody>\n",
       "    <tr>\n",
       "      <th>0</th>\n",
       "      <td>개포동</td>\n",
       "      <td>개포2차현대아파트(220)</td>\n",
       "      <td>77.75</td>\n",
       "      <td>202006</td>\n",
       "      <td>23</td>\n",
       "      <td>149500</td>\n",
       "      <td>4</td>\n",
       "      <td>1988</td>\n",
       "    </tr>\n",
       "    <tr>\n",
       "      <th>1</th>\n",
       "      <td>개포동</td>\n",
       "      <td>개포6차우성아파트1동~8동</td>\n",
       "      <td>54.98</td>\n",
       "      <td>202002</td>\n",
       "      <td>24</td>\n",
       "      <td>144000</td>\n",
       "      <td>4</td>\n",
       "      <td>1987</td>\n",
       "    </tr>\n",
       "    <tr>\n",
       "      <th>2</th>\n",
       "      <td>개포동</td>\n",
       "      <td>개포6차우성아파트1동~8동</td>\n",
       "      <td>79.97</td>\n",
       "      <td>202006</td>\n",
       "      <td>18</td>\n",
       "      <td>162750</td>\n",
       "      <td>4</td>\n",
       "      <td>1987</td>\n",
       "    </tr>\n",
       "    <tr>\n",
       "      <th>3</th>\n",
       "      <td>개포동</td>\n",
       "      <td>개포6차우성아파트1동~8동</td>\n",
       "      <td>79.97</td>\n",
       "      <td>202006</td>\n",
       "      <td>20</td>\n",
       "      <td>160000</td>\n",
       "      <td>5</td>\n",
       "      <td>1987</td>\n",
       "    </tr>\n",
       "    <tr>\n",
       "      <th>4</th>\n",
       "      <td>개포동</td>\n",
       "      <td>개포6차우성아파트1동~8동</td>\n",
       "      <td>79.97</td>\n",
       "      <td>202006</td>\n",
       "      <td>22</td>\n",
       "      <td>150000</td>\n",
       "      <td>2</td>\n",
       "      <td>1987</td>\n",
       "    </tr>\n",
       "    <tr>\n",
       "      <th>...</th>\n",
       "      <td>...</td>\n",
       "      <td>...</td>\n",
       "      <td>...</td>\n",
       "      <td>...</td>\n",
       "      <td>...</td>\n",
       "      <td>...</td>\n",
       "      <td>...</td>\n",
       "      <td>...</td>\n",
       "    </tr>\n",
       "    <tr>\n",
       "      <th>84221</th>\n",
       "      <td>중화동</td>\n",
       "      <td>한영(104)</td>\n",
       "      <td>67.57</td>\n",
       "      <td>202008</td>\n",
       "      <td>7</td>\n",
       "      <td>26000</td>\n",
       "      <td>2</td>\n",
       "      <td>2003</td>\n",
       "    </tr>\n",
       "    <tr>\n",
       "      <th>84222</th>\n",
       "      <td>중화동</td>\n",
       "      <td>현대휴앤미</td>\n",
       "      <td>95.94</td>\n",
       "      <td>202007</td>\n",
       "      <td>10</td>\n",
       "      <td>44000</td>\n",
       "      <td>6</td>\n",
       "      <td>2007</td>\n",
       "    </tr>\n",
       "    <tr>\n",
       "      <th>84223</th>\n",
       "      <td>중화동</td>\n",
       "      <td>현대휴앤미</td>\n",
       "      <td>100.17</td>\n",
       "      <td>202012</td>\n",
       "      <td>3</td>\n",
       "      <td>54800</td>\n",
       "      <td>5</td>\n",
       "      <td>2007</td>\n",
       "    </tr>\n",
       "    <tr>\n",
       "      <th>84224</th>\n",
       "      <td>중화동</td>\n",
       "      <td>현대휴앤미(102동)</td>\n",
       "      <td>77.71</td>\n",
       "      <td>202009</td>\n",
       "      <td>28</td>\n",
       "      <td>40000</td>\n",
       "      <td>5</td>\n",
       "      <td>2007</td>\n",
       "    </tr>\n",
       "    <tr>\n",
       "      <th>84225</th>\n",
       "      <td>중화동</td>\n",
       "      <td>현대휴앤미(102동)</td>\n",
       "      <td>77.71</td>\n",
       "      <td>202009</td>\n",
       "      <td>28</td>\n",
       "      <td>40000</td>\n",
       "      <td>5</td>\n",
       "      <td>2007</td>\n",
       "    </tr>\n",
       "  </tbody>\n",
       "</table>\n",
       "<p>84226 rows × 8 columns</p>\n",
       "</div>"
      ],
      "text/plain": [
       "      sigudong      apart_name  square  YYYYMM  DD    cost  floor  blit_year\n",
       "0          개포동  개포2차현대아파트(220)   77.75  202006  23  149500      4       1988\n",
       "1          개포동  개포6차우성아파트1동~8동   54.98  202002  24  144000      4       1987\n",
       "2          개포동  개포6차우성아파트1동~8동   79.97  202006  18  162750      4       1987\n",
       "3          개포동  개포6차우성아파트1동~8동   79.97  202006  20  160000      5       1987\n",
       "4          개포동  개포6차우성아파트1동~8동   79.97  202006  22  150000      2       1987\n",
       "...        ...             ...     ...     ...  ..     ...    ...        ...\n",
       "84221      중화동         한영(104)   67.57  202008   7   26000      2       2003\n",
       "84222      중화동           현대휴앤미   95.94  202007  10   44000      6       2007\n",
       "84223      중화동           현대휴앤미  100.17  202012   3   54800      5       2007\n",
       "84224      중화동     현대휴앤미(102동)   77.71  202009  28   40000      5       2007\n",
       "84225      중화동     현대휴앤미(102동)   77.71  202009  28   40000      5       2007\n",
       "\n",
       "[84226 rows x 8 columns]"
      ]
     },
     "execution_count": 16,
     "metadata": {},
     "output_type": "execute_result"
    }
   ],
   "source": [
    "df_2020"
   ]
  },
  {
   "cell_type": "code",
   "execution_count": 17,
   "id": "f203d3bf-b03b-45f3-95cc-1bd3b46a6167",
   "metadata": {},
   "outputs": [
    {
     "name": "stdout",
     "output_type": "stream",
     "text": [
      "<class 'pandas.core.frame.DataFrame'>\n",
      "RangeIndex: 84226 entries, 0 to 84225\n",
      "Data columns (total 8 columns):\n",
      " #   Column      Non-Null Count  Dtype  \n",
      "---  ------      --------------  -----  \n",
      " 0   sigudong    84226 non-null  object \n",
      " 1   apart_name  84226 non-null  object \n",
      " 2   square      84226 non-null  float64\n",
      " 3   YYYYMM      84226 non-null  int64  \n",
      " 4   DD          84226 non-null  int64  \n",
      " 5   cost        84226 non-null  int64  \n",
      " 6   floor       84226 non-null  int64  \n",
      " 7   blit_year   84226 non-null  int64  \n",
      "dtypes: float64(1), int64(5), object(2)\n",
      "memory usage: 5.1+ MB\n"
     ]
    }
   ],
   "source": [
    "df_2020.info()"
   ]
  },
  {
   "cell_type": "code",
   "execution_count": 18,
   "id": "0782c2a9-3ab9-4dee-ae9c-0023ad1ebcc0",
   "metadata": {},
   "outputs": [],
   "source": [
    "df_2020['sigudong']= df_2020['sigudong'].astype('object')"
   ]
  },
  {
   "cell_type": "code",
   "execution_count": 19,
   "id": "92c83f8b-4e3f-484a-8899-d921ed612c12",
   "metadata": {},
   "outputs": [
    {
     "data": {
      "text/html": [
       "<div>\n",
       "<style scoped>\n",
       "    .dataframe tbody tr th:only-of-type {\n",
       "        vertical-align: middle;\n",
       "    }\n",
       "\n",
       "    .dataframe tbody tr th {\n",
       "        vertical-align: top;\n",
       "    }\n",
       "\n",
       "    .dataframe thead th {\n",
       "        text-align: right;\n",
       "    }\n",
       "</style>\n",
       "<table border=\"1\" class=\"dataframe\">\n",
       "  <thead>\n",
       "    <tr style=\"text-align: right;\">\n",
       "      <th></th>\n",
       "      <th>station</th>\n",
       "      <th>dong</th>\n",
       "    </tr>\n",
       "  </thead>\n",
       "  <tbody>\n",
       "    <tr>\n",
       "      <th>89</th>\n",
       "      <td>대청</td>\n",
       "      <td>개포1동(개포동)</td>\n",
       "    </tr>\n",
       "  </tbody>\n",
       "</table>\n",
       "</div>"
      ],
      "text/plain": [
       "   station       dong\n",
       "89      대청  개포1동(개포동)"
      ]
     },
     "execution_count": 19,
     "metadata": {},
     "output_type": "execute_result"
    }
   ],
   "source": [
    "df_s[df_s['dong'].str.contains('개포동')]"
   ]
  },
  {
   "cell_type": "code",
   "execution_count": 20,
   "id": "166c970f-b46f-4b77-85b2-bd67927f70d2",
   "metadata": {},
   "outputs": [
    {
     "data": {
      "text/html": [
       "<div>\n",
       "<style scoped>\n",
       "    .dataframe tbody tr th:only-of-type {\n",
       "        vertical-align: middle;\n",
       "    }\n",
       "\n",
       "    .dataframe tbody tr th {\n",
       "        vertical-align: top;\n",
       "    }\n",
       "\n",
       "    .dataframe thead th {\n",
       "        text-align: right;\n",
       "    }\n",
       "</style>\n",
       "<table border=\"1\" class=\"dataframe\">\n",
       "  <thead>\n",
       "    <tr style=\"text-align: right;\">\n",
       "      <th></th>\n",
       "      <th>sigudong</th>\n",
       "      <th>apart_name</th>\n",
       "      <th>square</th>\n",
       "      <th>YYYYMM</th>\n",
       "      <th>DD</th>\n",
       "      <th>cost</th>\n",
       "      <th>floor</th>\n",
       "      <th>blit_year</th>\n",
       "    </tr>\n",
       "  </thead>\n",
       "  <tbody>\n",
       "    <tr>\n",
       "      <th>0</th>\n",
       "      <td>개포동</td>\n",
       "      <td>개포2차현대아파트(220)</td>\n",
       "      <td>77.75</td>\n",
       "      <td>202006</td>\n",
       "      <td>23</td>\n",
       "      <td>149500</td>\n",
       "      <td>4</td>\n",
       "      <td>1988</td>\n",
       "    </tr>\n",
       "    <tr>\n",
       "      <th>1</th>\n",
       "      <td>개포동</td>\n",
       "      <td>개포6차우성아파트1동~8동</td>\n",
       "      <td>54.98</td>\n",
       "      <td>202002</td>\n",
       "      <td>24</td>\n",
       "      <td>144000</td>\n",
       "      <td>4</td>\n",
       "      <td>1987</td>\n",
       "    </tr>\n",
       "    <tr>\n",
       "      <th>2</th>\n",
       "      <td>개포동</td>\n",
       "      <td>개포6차우성아파트1동~8동</td>\n",
       "      <td>79.97</td>\n",
       "      <td>202006</td>\n",
       "      <td>18</td>\n",
       "      <td>162750</td>\n",
       "      <td>4</td>\n",
       "      <td>1987</td>\n",
       "    </tr>\n",
       "    <tr>\n",
       "      <th>3</th>\n",
       "      <td>개포동</td>\n",
       "      <td>개포6차우성아파트1동~8동</td>\n",
       "      <td>79.97</td>\n",
       "      <td>202006</td>\n",
       "      <td>20</td>\n",
       "      <td>160000</td>\n",
       "      <td>5</td>\n",
       "      <td>1987</td>\n",
       "    </tr>\n",
       "    <tr>\n",
       "      <th>4</th>\n",
       "      <td>개포동</td>\n",
       "      <td>개포6차우성아파트1동~8동</td>\n",
       "      <td>79.97</td>\n",
       "      <td>202006</td>\n",
       "      <td>22</td>\n",
       "      <td>150000</td>\n",
       "      <td>2</td>\n",
       "      <td>1987</td>\n",
       "    </tr>\n",
       "    <tr>\n",
       "      <th>...</th>\n",
       "      <td>...</td>\n",
       "      <td>...</td>\n",
       "      <td>...</td>\n",
       "      <td>...</td>\n",
       "      <td>...</td>\n",
       "      <td>...</td>\n",
       "      <td>...</td>\n",
       "      <td>...</td>\n",
       "    </tr>\n",
       "    <tr>\n",
       "      <th>432</th>\n",
       "      <td>개포동</td>\n",
       "      <td>현대2</td>\n",
       "      <td>165.08</td>\n",
       "      <td>202012</td>\n",
       "      <td>9</td>\n",
       "      <td>298000</td>\n",
       "      <td>9</td>\n",
       "      <td>1986</td>\n",
       "    </tr>\n",
       "    <tr>\n",
       "      <th>433</th>\n",
       "      <td>개포동</td>\n",
       "      <td>현대2</td>\n",
       "      <td>165.08</td>\n",
       "      <td>202012</td>\n",
       "      <td>21</td>\n",
       "      <td>300000</td>\n",
       "      <td>4</td>\n",
       "      <td>1986</td>\n",
       "    </tr>\n",
       "    <tr>\n",
       "      <th>434</th>\n",
       "      <td>개포동</td>\n",
       "      <td>현대3</td>\n",
       "      <td>163.85</td>\n",
       "      <td>202011</td>\n",
       "      <td>7</td>\n",
       "      <td>300000</td>\n",
       "      <td>2</td>\n",
       "      <td>1986</td>\n",
       "    </tr>\n",
       "    <tr>\n",
       "      <th>435</th>\n",
       "      <td>개포동</td>\n",
       "      <td>현대3</td>\n",
       "      <td>131.83</td>\n",
       "      <td>202012</td>\n",
       "      <td>16</td>\n",
       "      <td>157000</td>\n",
       "      <td>3</td>\n",
       "      <td>1986</td>\n",
       "    </tr>\n",
       "    <tr>\n",
       "      <th>436</th>\n",
       "      <td>개포동</td>\n",
       "      <td>현대3</td>\n",
       "      <td>131.83</td>\n",
       "      <td>202012</td>\n",
       "      <td>16</td>\n",
       "      <td>157000</td>\n",
       "      <td>3</td>\n",
       "      <td>1986</td>\n",
       "    </tr>\n",
       "  </tbody>\n",
       "</table>\n",
       "<p>437 rows × 8 columns</p>\n",
       "</div>"
      ],
      "text/plain": [
       "    sigudong      apart_name  square  YYYYMM  DD    cost  floor  blit_year\n",
       "0        개포동  개포2차현대아파트(220)   77.75  202006  23  149500      4       1988\n",
       "1        개포동  개포6차우성아파트1동~8동   54.98  202002  24  144000      4       1987\n",
       "2        개포동  개포6차우성아파트1동~8동   79.97  202006  18  162750      4       1987\n",
       "3        개포동  개포6차우성아파트1동~8동   79.97  202006  20  160000      5       1987\n",
       "4        개포동  개포6차우성아파트1동~8동   79.97  202006  22  150000      2       1987\n",
       "..       ...             ...     ...     ...  ..     ...    ...        ...\n",
       "432      개포동             현대2  165.08  202012   9  298000      9       1986\n",
       "433      개포동             현대2  165.08  202012  21  300000      4       1986\n",
       "434      개포동             현대3  163.85  202011   7  300000      2       1986\n",
       "435      개포동             현대3  131.83  202012  16  157000      3       1986\n",
       "436      개포동             현대3  131.83  202012  16  157000      3       1986\n",
       "\n",
       "[437 rows x 8 columns]"
      ]
     },
     "execution_count": 20,
     "metadata": {},
     "output_type": "execute_result"
    }
   ],
   "source": [
    "df_2020[df_2020['sigudong'].str.contains('개포동')]"
   ]
  },
  {
   "cell_type": "code",
   "execution_count": 21,
   "id": "3d7064dc-a345-44f8-bd14-417c1f461d71",
   "metadata": {},
   "outputs": [
    {
     "data": {
      "text/plain": [
       "array(['개포동', '논현동', '대치동', '도곡동', '삼성동', '세곡동', '수서동', '신사동', '압구정동',\n",
       "       '역삼동', '율현동', '일원동', '자곡동', '청담동', '강일동', '고덕동', '길동', '둔촌동',\n",
       "       '명일동', '상일동', '성내동', '암사동', '천호동', '미아동', '번동', '수유동', '우이동',\n",
       "       '가양동', '공항동', '내발산동', '등촌동', '마곡동', '방화동', '염창동', '화곡동', '남현동',\n",
       "       '봉천동', '신림동', '광장동', '구의동', '군자동', '능동', '자양동', '중곡동', '화양동',\n",
       "       '가리봉동', '개봉동', '고척동', '구로동', '궁동', '신도림동', '오류동', '온수동', '천왕동',\n",
       "       '항동', '가산동', '독산동', '시흥동', '공릉동', '상계동', '월계동', '중계동', '하계동',\n",
       "       '도봉동', '방학동', '쌍문동', '창동', '답십리동', '신설동', '용두동', '이문동', '장안동',\n",
       "       '전농동', '제기동', '청량리동', '회기동', '휘경동', '노량진동', '대방동', '동작동', '본동',\n",
       "       '사당동', '상도1동', '상도동', '신대방동', '흑석동', '공덕동', '노고산동', '대흥동', '도화동',\n",
       "       '동교동', '마포동', '망원동', '상수동', '상암동', '서교동', '성산동', '신공덕동', '신수동',\n",
       "       '신정동', '아현동', '연남동', '염리동', '용강동', '중동', '창전동', '토정동', '하중동',\n",
       "       '합정동', '현석동', '남가좌동', '냉천동', '대현동', '북가좌동', '북아현동', '연희동', '영천동',\n",
       "       '창천동', '천연동', '충정로2가', '충정로3가', '합동', '현저동', '홍은동', '홍제동', '내곡동',\n",
       "       '반포동', '방배동', '서초동', '신원동', '양재동', '우면동', '잠원동', '금호동1가', '금호동2가',\n",
       "       '금호동3가', '금호동4가', '도선동', '마장동', '사근동', '상왕십리동', '성수동1가', '성수동2가',\n",
       "       '송정동', '옥수동', '용답동', '응봉동', '하왕십리동', '행당동', '홍익동', '길음동', '돈암동',\n",
       "       '동선동1가', '동선동3가', '동선동4가', '동소문동4가', '동소문동5가', '동소문동6가', '동소문동7가',\n",
       "       '보문동2가', '보문동3가', '보문동4가', '보문동6가', '삼선동2가', '삼선동3가', '삼선동4가',\n",
       "       '상월곡동', '석관동', '성북동', '성북동1가', '안암동1가', '안암동3가', '안암동4가', '장위동',\n",
       "       '정릉동', '종암동', '하월곡동', '가락동', '거여동', '마천동', '문정동', '방이동', '삼전동',\n",
       "       '석촌동', '송파동', '신천동', '오금동', '잠실동', '장지동', '풍납동', '목동', '신월동',\n",
       "       '당산동', '당산동1가', '당산동2가', '당산동3가', '당산동4가', '당산동5가', '당산동6가', '대림동',\n",
       "       '도림동', '문래동2가', '문래동3가', '문래동4가', '문래동5가', '문래동6가', '신길동', '양평동1가',\n",
       "       '양평동2가', '양평동3가', '양평동4가', '양평동5가', '양평동6가', '여의도동', '영등포동',\n",
       "       '영등포동1가', '영등포동2가', '영등포동3가', '영등포동4가', '영등포동5가', '영등포동7가',\n",
       "       '영등포동8가', '갈월동', '도원동', '동빙고동', '동자동', '문배동', '보광동', '산천동', '서빙고동',\n",
       "       '신계동', '신창동', '용문동', '용산동2가', '용산동5가', '원효로1가', '원효로2가', '원효로3가',\n",
       "       '원효로4가', '이촌동', '이태원동', '청암동', '청파동1가', '청파동3가', '한강로1가', '한강로2가',\n",
       "       '한강로3가', '한남동', '효창동', '후암동', '갈현동', '구산동', '녹번동', '대조동', '불광동',\n",
       "       '수색동', '역촌동', '응암동', '증산동', '진관동', '견지동', '교북동', '구기동', '내수동',\n",
       "       '당주동', '동숭동', '명륜1가', '명륜2가', '명륜3가', '무악동', '부암동', '사직동', '숭인동',\n",
       "       '신교동', '신문로1가', '신문로2가', '신영동', '연건동', '연지동', '원남동', '익선동', '인의동',\n",
       "       '창신동', '청운동', '충신동', '평동', '평창동', '필운동', '행촌동', '혜화동', '홍파동',\n",
       "       '효제동', '남대문로5가', '남산동2가', '만리동1가', '만리동2가', '묵정동', '산림동', '순화동',\n",
       "       '신당동', '예장동', '오장동', '을지로5가', '인현동2가', '장충동1가', '장충동2가', '정동',\n",
       "       '중림동', '충무로4가', '충무로5가', '필동1가', '필동3가', '황학동', '회현동1가', '회현동2가',\n",
       "       '흥인동', '망우동', '면목동', '묵동', '상봉동', '신내동', '중화동'], dtype=object)"
      ]
     },
     "execution_count": 21,
     "metadata": {},
     "output_type": "execute_result"
    }
   ],
   "source": [
    "dong=df_2020['sigudong'].unique()\n",
    "dong"
   ]
  },
  {
   "cell_type": "code",
   "execution_count": 22,
   "id": "716d3a84-fc46-48b6-93ba-46805c6bdcdf",
   "metadata": {},
   "outputs": [
    {
     "data": {
      "text/plain": [
       "상계동      3658\n",
       "중계동      2048\n",
       "구로동      2013\n",
       "창동       1720\n",
       "봉천동      1496\n",
       "         ... \n",
       "연지동         1\n",
       "신문로1가       1\n",
       "신교동         1\n",
       "능동          1\n",
       "갈월동         1\n",
       "Name: sigudong, Length: 322, dtype: int64"
      ]
     },
     "execution_count": 22,
     "metadata": {},
     "output_type": "execute_result"
    }
   ],
   "source": [
    "df_2020['sigudong'].value_counts()"
   ]
  },
  {
   "cell_type": "code",
   "execution_count": 23,
   "id": "19e0e90d-b0b0-4009-b13c-d89e9b83b614",
   "metadata": {},
   "outputs": [
    {
     "data": {
      "text/html": [
       "<div>\n",
       "<style scoped>\n",
       "    .dataframe tbody tr th:only-of-type {\n",
       "        vertical-align: middle;\n",
       "    }\n",
       "\n",
       "    .dataframe tbody tr th {\n",
       "        vertical-align: top;\n",
       "    }\n",
       "\n",
       "    .dataframe thead th {\n",
       "        text-align: right;\n",
       "    }\n",
       "</style>\n",
       "<table border=\"1\" class=\"dataframe\">\n",
       "  <thead>\n",
       "    <tr style=\"text-align: right;\">\n",
       "      <th></th>\n",
       "      <th>station</th>\n",
       "      <th>dong</th>\n",
       "    </tr>\n",
       "  </thead>\n",
       "  <tbody>\n",
       "    <tr>\n",
       "      <th>37</th>\n",
       "      <td>낙성대</td>\n",
       "      <td>행운동(봉천동)</td>\n",
       "    </tr>\n",
       "    <tr>\n",
       "      <th>38</th>\n",
       "      <td>서울대입구</td>\n",
       "      <td>행운동(봉천동)</td>\n",
       "    </tr>\n",
       "    <tr>\n",
       "      <th>39</th>\n",
       "      <td>봉천</td>\n",
       "      <td>청룡동(봉천동)</td>\n",
       "    </tr>\n",
       "  </tbody>\n",
       "</table>\n",
       "</div>"
      ],
      "text/plain": [
       "   station      dong\n",
       "37     낙성대  행운동(봉천동)\n",
       "38   서울대입구  행운동(봉천동)\n",
       "39      봉천  청룡동(봉천동)"
      ]
     },
     "execution_count": 23,
     "metadata": {},
     "output_type": "execute_result"
    }
   ],
   "source": [
    "df_s[df_s['dong'].str.contains('상계동')]\n",
    "#상계동 역 5개\n",
    "df_s[df_s['dong'].str.contains('중계동')]\n",
    "#중계동 역 1개\n",
    "df_s[df_s['dong'].str.contains('구로동')]\n",
    "#구로동 역 3개\n",
    "df_s[df_s['dong'].str.contains('창동')]\n",
    "#창동 역 2개\n",
    "df_s[df_s['dong'].str.contains('봉천동')]\n",
    "#봉천동 역 3개"
   ]
  },
  {
   "cell_type": "code",
   "execution_count": 24,
   "id": "b100e0d5-76c5-4dd8-8947-483d25af4f86",
   "metadata": {},
   "outputs": [
    {
     "data": {
      "text/html": [
       "<div>\n",
       "<style scoped>\n",
       "    .dataframe tbody tr th:only-of-type {\n",
       "        vertical-align: middle;\n",
       "    }\n",
       "\n",
       "    .dataframe tbody tr th {\n",
       "        vertical-align: top;\n",
       "    }\n",
       "\n",
       "    .dataframe thead th {\n",
       "        text-align: right;\n",
       "    }\n",
       "</style>\n",
       "<table border=\"1\" class=\"dataframe\">\n",
       "  <thead>\n",
       "    <tr style=\"text-align: right;\">\n",
       "      <th></th>\n",
       "      <th>station</th>\n",
       "      <th>dong</th>\n",
       "    </tr>\n",
       "  </thead>\n",
       "  <tbody>\n",
       "    <tr>\n",
       "      <th>95</th>\n",
       "      <td>당고개</td>\n",
       "      <td>상계3.4동(상계동)</td>\n",
       "    </tr>\n",
       "    <tr>\n",
       "      <th>96</th>\n",
       "      <td>상계</td>\n",
       "      <td>상계5동(상계동)</td>\n",
       "    </tr>\n",
       "    <tr>\n",
       "      <th>97</th>\n",
       "      <td>노원</td>\n",
       "      <td>상계2동(상계동)</td>\n",
       "    </tr>\n",
       "    <tr>\n",
       "      <th>215</th>\n",
       "      <td>수락산</td>\n",
       "      <td>상계1동(상계동)</td>\n",
       "    </tr>\n",
       "    <tr>\n",
       "      <th>216</th>\n",
       "      <td>마들</td>\n",
       "      <td>상계1동(상계동)</td>\n",
       "    </tr>\n",
       "    <tr>\n",
       "      <th>217</th>\n",
       "      <td>노원</td>\n",
       "      <td>상계1동(상계동)</td>\n",
       "    </tr>\n",
       "  </tbody>\n",
       "</table>\n",
       "</div>"
      ],
      "text/plain": [
       "    station         dong\n",
       "95      당고개  상계3.4동(상계동)\n",
       "96       상계    상계5동(상계동)\n",
       "97       노원    상계2동(상계동)\n",
       "215     수락산    상계1동(상계동)\n",
       "216      마들    상계1동(상계동)\n",
       "217      노원    상계1동(상계동)"
      ]
     },
     "execution_count": 24,
     "metadata": {},
     "output_type": "execute_result"
    }
   ],
   "source": [
    "df_s[df_s['dong'].str.contains('상계동')]"
   ]
  },
  {
   "cell_type": "code",
   "execution_count": 25,
   "id": "b6e2c113-ada8-40c0-8291-ee8f57c9f114",
   "metadata": {},
   "outputs": [
    {
     "data": {
      "text/plain": [
       "2"
      ]
     },
     "execution_count": 25,
     "metadata": {},
     "output_type": "execute_result"
    }
   ],
   "source": [
    "df_s[df_s['dong'].str.contains('봉천동')].iloc[0].count()"
   ]
  },
  {
   "cell_type": "markdown",
   "id": "2d8df3f1-b013-4416-8711-a89951ddceae",
   "metadata": {},
   "source": [
    "## df2020에서 해당 분자열을 검색해서 값을 불러오자"
   ]
  },
  {
   "cell_type": "code",
   "execution_count": null,
   "id": "7f05ca41-2c2d-4230-b7f5-7ed214bff810",
   "metadata": {},
   "outputs": [],
   "source": [
    "#df_s['stations']=0"
   ]
  },
  {
   "cell_type": "code",
   "execution_count": 26,
   "id": "70c268d9-5ca7-4db9-bf84-1a141fe30d75",
   "metadata": {},
   "outputs": [
    {
     "data": {
      "text/html": [
       "<div>\n",
       "<style scoped>\n",
       "    .dataframe tbody tr th:only-of-type {\n",
       "        vertical-align: middle;\n",
       "    }\n",
       "\n",
       "    .dataframe tbody tr th {\n",
       "        vertical-align: top;\n",
       "    }\n",
       "\n",
       "    .dataframe thead th {\n",
       "        text-align: right;\n",
       "    }\n",
       "</style>\n",
       "<table border=\"1\" class=\"dataframe\">\n",
       "  <thead>\n",
       "    <tr style=\"text-align: right;\">\n",
       "      <th></th>\n",
       "      <th>station</th>\n",
       "      <th>dong</th>\n",
       "    </tr>\n",
       "  </thead>\n",
       "  <tbody>\n",
       "    <tr>\n",
       "      <th>0</th>\n",
       "      <td>역 명</td>\n",
       "      <td>행정동(법정동)명</td>\n",
       "    </tr>\n",
       "    <tr>\n",
       "      <th>1</th>\n",
       "      <td>서울</td>\n",
       "      <td>회현동(봉래동2가)</td>\n",
       "    </tr>\n",
       "    <tr>\n",
       "      <th>2</th>\n",
       "      <td>시청</td>\n",
       "      <td>명동(태평로1가)</td>\n",
       "    </tr>\n",
       "    <tr>\n",
       "      <th>3</th>\n",
       "      <td>종각</td>\n",
       "      <td>종로1.2.3.4가동(종로1가)</td>\n",
       "    </tr>\n",
       "    <tr>\n",
       "      <th>4</th>\n",
       "      <td>종로3가</td>\n",
       "      <td>종로1.2.3.4가동(종로3가)</td>\n",
       "    </tr>\n",
       "    <tr>\n",
       "      <th>...</th>\n",
       "      <td>...</td>\n",
       "      <td>...</td>\n",
       "    </tr>\n",
       "    <tr>\n",
       "      <th>276</th>\n",
       "      <td>남한산성입구</td>\n",
       "      <td>단대동(단대동)</td>\n",
       "    </tr>\n",
       "    <tr>\n",
       "      <th>277</th>\n",
       "      <td>단대오거리</td>\n",
       "      <td>신흥2동(신흥동)</td>\n",
       "    </tr>\n",
       "    <tr>\n",
       "      <th>278</th>\n",
       "      <td>신흥</td>\n",
       "      <td>신흥3동(신흥동)</td>\n",
       "    </tr>\n",
       "    <tr>\n",
       "      <th>279</th>\n",
       "      <td>수진</td>\n",
       "      <td>수진1동(수진동)</td>\n",
       "    </tr>\n",
       "    <tr>\n",
       "      <th>280</th>\n",
       "      <td>모란</td>\n",
       "      <td>수진2동(수진동)</td>\n",
       "    </tr>\n",
       "  </tbody>\n",
       "</table>\n",
       "<p>281 rows × 2 columns</p>\n",
       "</div>"
      ],
      "text/plain": [
       "    station               dong\n",
       "0       역 명          행정동(법정동)명\n",
       "1        서울         회현동(봉래동2가)\n",
       "2        시청          명동(태평로1가)\n",
       "3        종각  종로1.2.3.4가동(종로1가)\n",
       "4      종로3가  종로1.2.3.4가동(종로3가)\n",
       "..      ...                ...\n",
       "276  남한산성입구           단대동(단대동)\n",
       "277   단대오거리          신흥2동(신흥동)\n",
       "278      신흥          신흥3동(신흥동)\n",
       "279      수진          수진1동(수진동)\n",
       "280      모란          수진2동(수진동)\n",
       "\n",
       "[281 rows x 2 columns]"
      ]
     },
     "execution_count": 26,
     "metadata": {},
     "output_type": "execute_result"
    }
   ],
   "source": [
    "df_s"
   ]
  },
  {
   "cell_type": "code",
   "execution_count": 27,
   "id": "e2ff83bb-34e7-4b8e-a22b-5997eb90bc29",
   "metadata": {},
   "outputs": [
    {
     "data": {
      "text/plain": [
       "count       281\n",
       "unique        2\n",
       "top       False\n",
       "freq        267\n",
       "dtype: object"
      ]
     },
     "execution_count": 27,
     "metadata": {},
     "output_type": "execute_result"
    }
   ],
   "source": [
    "df_s.duplicated().describe()"
   ]
  },
  {
   "cell_type": "code",
   "execution_count": 28,
   "id": "19ec7176-7df1-4856-ac7a-e1262554b0f7",
   "metadata": {},
   "outputs": [],
   "source": [
    "df_ss=df_s.drop_duplicates(subset=['station'])"
   ]
  },
  {
   "cell_type": "code",
   "execution_count": 29,
   "id": "cd523e61-ee3d-4e41-8cc1-87911a03d483",
   "metadata": {},
   "outputs": [
    {
     "name": "stderr",
     "output_type": "stream",
     "text": [
      "<ipython-input-29-aa7260cff806>:1: UserWarning: Boolean Series key will be reindexed to match DataFrame index.\n",
      "  df_ss[df_s['dong'].str.contains('상계동')].count()[1]\n"
     ]
    },
    {
     "data": {
      "text/plain": [
       "5"
      ]
     },
     "execution_count": 29,
     "metadata": {},
     "output_type": "execute_result"
    }
   ],
   "source": [
    "df_ss[df_s['dong'].str.contains('상계동')].count()[1]"
   ]
  },
  {
   "cell_type": "code",
   "execution_count": 30,
   "id": "20bc9c95-f2d4-4552-b76e-4bb20a5b1df6",
   "metadata": {},
   "outputs": [
    {
     "name": "stdout",
     "output_type": "stream",
     "text": [
      "<class 'pandas.core.frame.DataFrame'>\n",
      "Int64Index: 245 entries, 0 to 280\n",
      "Data columns (total 2 columns):\n",
      " #   Column   Non-Null Count  Dtype \n",
      "---  ------   --------------  ----- \n",
      " 0   station  245 non-null    object\n",
      " 1   dong     245 non-null    object\n",
      "dtypes: object(2)\n",
      "memory usage: 5.7+ KB\n"
     ]
    }
   ],
   "source": [
    "df_ss.info()"
   ]
  },
  {
   "cell_type": "code",
   "execution_count": 31,
   "id": "6c55f284-0540-488f-90fe-1f2e427e2fdc",
   "metadata": {},
   "outputs": [
    {
     "data": {
      "text/plain": [
       "station    0\n",
       "dong       0\n",
       "dtype: int64"
      ]
     },
     "execution_count": 31,
     "metadata": {},
     "output_type": "execute_result"
    }
   ],
   "source": [
    "df_ss.isnull().sum()"
   ]
  },
  {
   "cell_type": "code",
   "execution_count": null,
   "id": "de65aabf-050e-4478-aa36-064eaaea96a2",
   "metadata": {},
   "outputs": [],
   "source": []
  },
  {
   "cell_type": "code",
   "execution_count": 84,
   "id": "1c3e2ff9-ab50-48e9-a1ae-1e099b88f878",
   "metadata": {},
   "outputs": [
    {
     "data": {
      "text/plain": [
       "2"
      ]
     },
     "execution_count": 84,
     "metadata": {},
     "output_type": "execute_result"
    }
   ],
   "source": [
    "df_ss[df_ss['dong'].str.contains(df_2020['sigudong'].unique()[1])].iloc[0].count()"
   ]
  },
  {
   "cell_type": "code",
   "execution_count": 118,
   "id": "fd33d155-fea0-477d-b31e-a0f166057577",
   "metadata": {},
   "outputs": [
    {
     "data": {
      "text/plain": [
       "Series([], dtype: int64)"
      ]
     },
     "execution_count": 118,
     "metadata": {},
     "output_type": "execute_result"
    }
   ],
   "source": [
    "df_ss[df_ss['dong'].str.contains(y)].count(axis=1)"
   ]
  },
  {
   "cell_type": "code",
   "execution_count": 119,
   "id": "db15f802-1fd7-4878-94a8-b785a35d0bf8",
   "metadata": {},
   "outputs": [
    {
     "ename": "NameError",
     "evalue": "name 'error' is not defined",
     "output_type": "error",
     "traceback": [
      "\u001b[1;31m---------------------------------------------------------------------------\u001b[0m",
      "\u001b[1;31mNameError\u001b[0m                                 Traceback (most recent call last)",
      "\u001b[1;32m<ipython-input-119-9c5d93d48a38>\u001b[0m in \u001b[0;36m<module>\u001b[1;34m\u001b[0m\n\u001b[0;32m      4\u001b[0m \u001b[1;32mfor\u001b[0m \u001b[0mi\u001b[0m \u001b[1;32min\u001b[0m \u001b[0mdf_2020\u001b[0m\u001b[1;33m[\u001b[0m\u001b[1;34m'sigudong'\u001b[0m\u001b[1;33m]\u001b[0m\u001b[1;33m.\u001b[0m\u001b[0munique\u001b[0m\u001b[1;33m(\u001b[0m\u001b[1;33m)\u001b[0m\u001b[1;33m:\u001b[0m\u001b[1;33m\u001b[0m\u001b[1;33m\u001b[0m\u001b[0m\n\u001b[0;32m      5\u001b[0m     \u001b[1;31m#dong.append(i)\u001b[0m\u001b[1;33m\u001b[0m\u001b[1;33m\u001b[0m\u001b[1;33m\u001b[0m\u001b[0m\n\u001b[1;32m----> 6\u001b[1;33m     \u001b[1;32mif\u001b[0m \u001b[0mdf_ss\u001b[0m\u001b[1;33m[\u001b[0m\u001b[0mdf_ss\u001b[0m\u001b[1;33m[\u001b[0m\u001b[1;34m'dong'\u001b[0m\u001b[1;33m]\u001b[0m\u001b[1;33m.\u001b[0m\u001b[0mstr\u001b[0m\u001b[1;33m.\u001b[0m\u001b[0mcontains\u001b[0m\u001b[1;33m(\u001b[0m\u001b[0mi\u001b[0m\u001b[1;33m)\u001b[0m\u001b[1;33m]\u001b[0m\u001b[1;33m.\u001b[0m\u001b[0miloc\u001b[0m\u001b[1;33m[\u001b[0m\u001b[1;36m0\u001b[0m\u001b[1;33m]\u001b[0m\u001b[1;33m.\u001b[0m\u001b[0mcount\u001b[0m\u001b[1;33m(\u001b[0m\u001b[1;33m)\u001b[0m \u001b[1;32mis\u001b[0m \u001b[0merror\u001b[0m\u001b[1;33m:\u001b[0m\u001b[1;33m\u001b[0m\u001b[1;33m\u001b[0m\u001b[0m\n\u001b[0m\u001b[0;32m      7\u001b[0m         \u001b[0mstation\u001b[0m\u001b[1;33m.\u001b[0m\u001b[0mappend\u001b[0m\u001b[1;33m(\u001b[0m\u001b[1;34m'0'\u001b[0m\u001b[1;33m)\u001b[0m\u001b[1;33m\u001b[0m\u001b[1;33m\u001b[0m\u001b[0m\n\u001b[0;32m      8\u001b[0m     \u001b[1;32melse\u001b[0m \u001b[1;33m:\u001b[0m\u001b[1;33m\u001b[0m\u001b[1;33m\u001b[0m\u001b[0m\n",
      "\u001b[1;31mNameError\u001b[0m: name 'error' is not defined"
     ]
    }
   ],
   "source": [
    "sc = pd.DataFrame(columns=['dong', 'stations'])\n",
    "dong = []\n",
    "station = []\n",
    "for i in df_2020['sigudong'].unique():\n",
    "    #dong.append(i)\n",
    "    if df_ss[df_ss['dong'].str.contains(i)].iloc[0].count() is error:\n",
    "        station.append('0')\n",
    "    else :\n",
    "        station.append(df_ss[df_ss['dong'].str.contains(i)].iloc[0].count())\n",
    "#sc['dong'] = dong\n",
    "sc['stations'] = station\n",
    "sc"
   ]
  },
  {
   "cell_type": "code",
   "execution_count": 81,
   "id": "07db694f-6b8d-44f9-8abc-bf82a1733658",
   "metadata": {},
   "outputs": [
    {
     "ename": "IndentationError",
     "evalue": "unexpected indent (<ipython-input-81-0bbd24defe9d>, line 4)",
     "output_type": "error",
     "traceback": [
      "\u001b[1;36m  File \u001b[1;32m\"<ipython-input-81-0bbd24defe9d>\"\u001b[1;36m, line \u001b[1;32m4\u001b[0m\n\u001b[1;33m    = df_ss[df_ss['dong'].str.contains(i)].iloc[0].count()\u001b[0m\n\u001b[1;37m    ^\u001b[0m\n\u001b[1;31mIndentationError\u001b[0m\u001b[1;31m:\u001b[0m unexpected indent\n"
     ]
    }
   ],
   "source": [
    "sc = pd.DataFrame(columns=['dong', 'stations'])\n",
    "for i in range(len(df_2020['sigudong'].unique())):\n",
    "    dong = df_ss[df_ss['dong'].str.contains(df_2020['sigudong'].unique())]\n",
    "     = df_ss[df_ss['dong'].str.contains(df_2020['sigudong'].unique()[i])].iloc[0].count()"
   ]
  },
  {
   "cell_type": "code",
   "execution_count": null,
   "id": "f9ce83d2-97ab-4cfa-be93-97e196c3ccd6",
   "metadata": {},
   "outputs": [],
   "source": [
    "    sc['dong'] = sc['dong'].append(dong)\n",
    "    sc['stations'] = sc['stations'].append(stations)"
   ]
  },
  {
   "cell_type": "code",
   "execution_count": null,
   "id": "9e05d1cb-830c-4e56-b651-de88fe3d3fcf",
   "metadata": {},
   "outputs": [],
   "source": [
    "#sc = station count\n",
    "sc = pd.DataFrame(columns=['dong', 'stations'])\n",
    "for i in range(len(df_2020['sigudong'].unique())):\n",
    "    dong = df_s[df_s['dong'].str.contains(df_2020['sigudong'].unique())]\n",
    "    stations = df_s[df_s['dong'].str.contains(df_2020['sigudong'].unique()[i])].count()\n",
    "    sc['dong'] = sc['dong'].append(dong)\n",
    "    sc['stations'] = sc['stations'].append(stations)"
   ]
  },
  {
   "cell_type": "code",
   "execution_count": 35,
   "id": "2f8d3a57-5a30-48f1-a422-ffde2c22c2a2",
   "metadata": {},
   "outputs": [
    {
     "ename": "NameError",
     "evalue": "name 'stations' is not defined",
     "output_type": "error",
     "traceback": [
      "\u001b[1;31m---------------------------------------------------------------------------\u001b[0m",
      "\u001b[1;31mNameError\u001b[0m                                 Traceback (most recent call last)",
      "\u001b[1;32m<ipython-input-35-621ac59af834>\u001b[0m in \u001b[0;36m<module>\u001b[1;34m\u001b[0m\n\u001b[1;32m----> 1\u001b[1;33m \u001b[0mstations\u001b[0m\u001b[1;33m\u001b[0m\u001b[1;33m\u001b[0m\u001b[0m\n\u001b[0m",
      "\u001b[1;31mNameError\u001b[0m: name 'stations' is not defined"
     ]
    }
   ],
   "source": [
    "stations"
   ]
  },
  {
   "cell_type": "code",
   "execution_count": null,
   "id": "74efd950-30a4-47d3-8c46-a3c1425c0807",
   "metadata": {},
   "outputs": [],
   "source": [
    "sc"
   ]
  },
  {
   "cell_type": "code",
   "execution_count": null,
   "id": "319f6181-8089-46ed-8491-0c251c55d0b4",
   "metadata": {},
   "outputs": [],
   "source": [
    "stations = pd.DataFrame(columns=['stations'])\n",
    "for i in range(len(df_2020['sigudong'].unique())):\n",
    "    stations = df_s[df_s['dong'].str.contains(df_2020['sigudong'].unique()[i])].count()\n",
    "    stations = stations.append(stations, ignore_index=True)\n",
    "stations"
   ]
  },
  {
   "cell_type": "code",
   "execution_count": null,
   "id": "2a476c74-6f31-44b5-a362-53dff00d79b2",
   "metadata": {},
   "outputs": [],
   "source": [
    "len(df_2020['sigudong'].unique())"
   ]
  },
  {
   "cell_type": "code",
   "execution_count": null,
   "id": "f76ee111-25fe-4165-9d7a-a556a1d249dd",
   "metadata": {},
   "outputs": [],
   "source": [
    "df_2020['sigudong'].unique()[1]"
   ]
  },
  {
   "cell_type": "code",
   "execution_count": null,
   "id": "e880db1e-9e09-41e3-85fe-d67805302b40",
   "metadata": {},
   "outputs": [],
   "source": [
    "data=np.array()"
   ]
  },
  {
   "cell_type": "code",
   "execution_count": null,
   "id": "3b914d1a-a3af-49aa-8bdb-59c4bff412b0",
   "metadata": {},
   "outputs": [],
   "source": [
    "df_sc = pd.DataFrame"
   ]
  },
  {
   "cell_type": "code",
   "execution_count": null,
   "id": "3e8a70df-e678-47d3-a770-cf189c09f4b9",
   "metadata": {},
   "outputs": [],
   "source": []
  },
  {
   "cell_type": "code",
   "execution_count": null,
   "id": "8e3fe162-5531-4386-ae3a-3a271b95facc",
   "metadata": {},
   "outputs": [],
   "source": []
  },
  {
   "cell_type": "code",
   "execution_count": null,
   "id": "cad5e245-271d-4a0c-a847-215e2f403753",
   "metadata": {},
   "outputs": [],
   "source": []
  },
  {
   "cell_type": "code",
   "execution_count": null,
   "id": "6e7fbedc-46d7-4509-b6b1-e544e0cffe7c",
   "metadata": {},
   "outputs": [],
   "source": []
  },
  {
   "cell_type": "code",
   "execution_count": null,
   "id": "7d1a2469-92c6-4300-beb9-d9746a807668",
   "metadata": {},
   "outputs": [],
   "source": []
  },
  {
   "cell_type": "code",
   "execution_count": null,
   "id": "0231a7f9-404b-4a42-a526-8da2b679b698",
   "metadata": {},
   "outputs": [],
   "source": []
  },
  {
   "cell_type": "code",
   "execution_count": null,
   "id": "803227f6-a6a8-4121-8d1a-ed6d9657d382",
   "metadata": {},
   "outputs": [],
   "source": []
  },
  {
   "cell_type": "code",
   "execution_count": null,
   "id": "5a02b335-a1c9-4bc2-862c-57c01a20b1f4",
   "metadata": {},
   "outputs": [],
   "source": []
  },
  {
   "cell_type": "code",
   "execution_count": null,
   "id": "21b73367-8752-4f52-817f-9f2db2619a94",
   "metadata": {},
   "outputs": [],
   "source": [
    "len(df_s[df_s['dong'].str.contains('봉천동')])"
   ]
  },
  {
   "cell_type": "code",
   "execution_count": null,
   "id": "5621608c-7232-4cfd-9643-b7901798ab88",
   "metadata": {},
   "outputs": [],
   "source": [
    "if df_s[df_s['dong'].str.contains('봉천동')], return df_s[df_s['dong'].str.contains('봉천동')].count()"
   ]
  },
  {
   "cell_type": "code",
   "execution_count": null,
   "id": "c8c11999-5eb2-47a2-a672-f0e0a236e3cb",
   "metadata": {},
   "outputs": [],
   "source": [
    "df_2020.groupby(['sigudong']).count()"
   ]
  },
  {
   "cell_type": "code",
   "execution_count": null,
   "id": "d70fada5-84e6-47fd-a652-3d4816edb5e2",
   "metadata": {},
   "outputs": [],
   "source": [
    "print([df_s[df_s['dong'].str.contains('봉천동')&(df_s['station'])].count()])"
   ]
  },
  {
   "cell_type": "code",
   "execution_count": null,
   "id": "29332ded-eb08-45d9-9c5b-607660d006e7",
   "metadata": {},
   "outputs": [],
   "source": [
    "df_s['station'].count()"
   ]
  },
  {
   "cell_type": "code",
   "execution_count": null,
   "id": "fb111fc8-b1f4-44e6-b7ea-c5f68263089a",
   "metadata": {},
   "outputs": [],
   "source": [
    "[df_s('station') & df_s[df_s['dong'].str.contains('봉천동')]].count()"
   ]
  },
  {
   "cell_type": "code",
   "execution_count": null,
   "id": "96f99673-37cd-4656-9f9a-65f585eb1b24",
   "metadata": {},
   "outputs": [],
   "source": []
  },
  {
   "cell_type": "code",
   "execution_count": null,
   "id": "7610a8b9-b639-4f94-aa07-7dbae232ae83",
   "metadata": {},
   "outputs": [],
   "source": []
  },
  {
   "cell_type": "code",
   "execution_count": null,
   "id": "1cb4d7fe-a4e9-4da9-9a1c-1d3f9d3e2e18",
   "metadata": {},
   "outputs": [],
   "source": []
  },
  {
   "cell_type": "code",
   "execution_count": null,
   "id": "7f36a10e-785c-4085-a8d5-814b0cfe06fb",
   "metadata": {},
   "outputs": [],
   "source": []
  }
 ],
 "metadata": {
  "kernelspec": {
   "display_name": "multi",
   "language": "python",
   "name": "multi"
  },
  "language_info": {
   "codemirror_mode": {
    "name": "ipython",
    "version": 3
   },
   "file_extension": ".py",
   "mimetype": "text/x-python",
   "name": "python",
   "nbconvert_exporter": "python",
   "pygments_lexer": "ipython3",
   "version": "3.8.3"
  }
 },
 "nbformat": 4,
 "nbformat_minor": 5
}
